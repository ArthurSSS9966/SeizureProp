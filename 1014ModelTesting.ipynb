{
 "cells": [
  {
   "cell_type": "code",
   "outputs": [],
   "source": [
    "# At the start of your notebook\n",
    "from IPython.display import clear_output\n",
    "import gc\n",
    "\n",
    "# After heavy computations\n",
    "clear_output(wait=True)\n",
    "gc.collect()"
   ],
   "metadata": {
    "collapsed": false
   },
   "id": "73fec8a7c7d37671",
   "execution_count": null
  },
  {
   "cell_type": "code",
   "outputs": [],
   "source": [
    "import os\n",
    "import numpy as np\n",
    "import matplotlib.pyplot as plt\n",
    "import torch\n",
    "\n",
    "from utils import split_data\n",
    "from datasetConstruct import combine_loaders, load_seizure_across_patients, create_dataset\n",
    "from models import CNN1D, train_using_optimizer, Wavenet, LSTM, evaluate_model, output_to_probability\n",
    "from plotFun import plot_time_limited_heatmap, plot_eeg_style\n",
    "\n",
    "data_folder = \"data\"\n",
    "MODEL_FOLDER = \"checkpoints\""
   ],
   "metadata": {
    "collapsed": false
   },
   "id": "d0fccf48ca672f73",
   "execution_count": null
  },
  {
   "cell_type": "code",
   "outputs": [],
   "source": [
    "seizure_across_patients = load_seizure_across_patients(data_folder)\n",
    "\n",
    "ml_datasets = [create_dataset(seizure, batch_size=4096) for seizure in seizure_across_patients]\n",
    "\n",
    "train_loader, val_loader = combine_loaders(ml_datasets, batch_size=4096)\n",
    "\n",
    "channels, time_steps = train_loader.dataset[0][0].shape"
   ],
   "metadata": {
    "collapsed": false
   },
   "id": "3c7572095b06a45f",
   "execution_count": null
  },
  {
   "cell_type": "code",
   "outputs": [],
   "source": [
    "# Create the model\n",
    "epochs = 40\n",
    "checkpoint_freq = 5\n",
    "lr = 0.001 # DO NOT CHANGE!\n",
    "TRAIN = True\n",
    "\n",
    "model1 = CNN1D(input_dim=channels, kernel_size=time_steps, output_dim=2, lr=lr)\n",
    "model2 = Wavenet(input_dim=channels, output_dim=2, kernel_size=time_steps, lr=lr)\n",
    "model3 = LSTM(input_dim=channels, output_dim=2, lr=lr)\n",
    "\n",
    "if TRAIN:\n",
    "\n",
    "    # Train the model\n",
    "    CNNtrain_loss, CNNval_los, CNNval_accuracy = train_using_optimizer(\n",
    "                                                                        model=model1,\n",
    "                                                                        trainloader=train_loader,\n",
    "                                                                        valloader=val_loader,\n",
    "                                                                        save_location='checkpoints',\n",
    "                                                                        epochs=epochs,\n",
    "                                                                        device='cuda:0',\n",
    "                                                                        patience=7,\n",
    "                                                                        gradient_clip=1.0,\n",
    "                                                                        checkpoint_freq=checkpoint_freq\n",
    "                                                                    )\n",
    "    \n",
    "    Wavetrain_loss, Waveval_los, Waveval_accuracy = train_using_optimizer(\n",
    "                                                                            model=model2,\n",
    "                                                                            trainloader=train_loader,\n",
    "                                                                            valloader=val_loader,\n",
    "                                                                            save_location='checkpoints',\n",
    "                                                                            epochs=epochs,\n",
    "                                                                            device='cuda:0',\n",
    "                                                                            patience=7,\n",
    "                                                                            gradient_clip=1.0,\n",
    "                                                                            checkpoint_freq=checkpoint_freq\n",
    "                                                                        )\n",
    "    # LSTMtrain_loss, LSTMval_los, LSTMval_accuracy = train_using_optimizer(\n",
    "    #                                                                         model=model3,\n",
    "    #                                                                         trainloader=train_loader,\n",
    "    #                                                                         valloader=val_loader,\n",
    "    #                                                                         save_location='checkpoints',\n",
    "    #                                                                         epochs=epochs,\n",
    "    #                                                                         device='cuda:0',\n",
    "    #                                                                         patience=7,\n",
    "    #                                                                         gradient_clip=1.0,\n",
    "    #                                                                         checkpoint_freq=checkpoint_freq\n",
    "    #                                                                     )\n",
    "    # \n",
    "else:\n",
    "    # Load the model\n",
    "    model1.load_state_dict(torch.load(os.path.join(MODEL_FOLDER, \"CNN1D_best.pth\")))\n",
    "    model2.load_state_dict(torch.load(os.path.join(MODEL_FOLDER, \"Wavenet_best.pth\")))\n",
    "    # model3.load_state_dict(torch.load(os.path.join(MODEL_FOLDER, \"LSTM_best.pth\")))\n",
    "\n",
    "# Evaluate the model\n",
    "loss_CNN, acuracy_CNN = evaluate_model(model1, val_loader,'cuda:0')\n",
    "# loss_LSTM, acuracy_LSTM = evaluate_model(model3, val_loader,'cuda:0')\n",
    "loss_Wavenet, acuracy_Wavenet = evaluate_model(model2, val_loader,'cuda:0')"
   ],
   "metadata": {
    "collapsed": false
   },
   "id": "fbed17c81da1a1f3",
   "execution_count": null
  },
  {
   "cell_type": "code",
   "outputs": [],
   "source": [
    "if TRAIN:\n",
    "\n",
    "    # Plot the loss and accuracy\n",
    "    \n",
    "    plt.figure()\n",
    "    plt.plot(CNNtrain_loss, label=\"CNN Training Loss\")\n",
    "    # plt.plot(CNNval_los, label=\"CNN Validation Loss\")\n",
    "    plt.plot(Wavetrain_loss, label=\"Wavenet Training Loss\")\n",
    "    # plt.plot(Waveval_los, label=\"Wavenet Validation Loss\")\n",
    "    plt.legend()\n",
    "    plt.xlabel(\"Epoch\")\n",
    "    plt.ylabel(\"Loss\")\n",
    "    plt.title(\"Loss vs Epoch\")\n",
    "    plt.show()\n",
    "    \n",
    "    plt.figure()\n",
    "    plt.plot(CNNval_accuracy, label=\"CNN Validation Accuracy\")\n",
    "    plt.plot(Waveval_accuracy, label=\"Wavenet Validation Accuracy\")\n",
    "    plt.legend()\n",
    "    plt.xlabel(\"Epoch\")\n",
    "    plt.ylabel(\"Accuracy\")\n",
    "    plt.title(\"Accuracy vs Epoch\")\n",
    "    plt.show()\n"
   ],
   "metadata": {
    "collapsed": false
   },
   "id": "2bac56b86f2719a9",
   "execution_count": null
  },
  {
   "cell_type": "code",
   "outputs": [],
   "source": [
    "from datasetConstruct import load_single_seizure\n",
    "pat_No = 66\n",
    "data_folder = os.path.join(\"data\", f\"P{pat_No}\")\n",
    "seizure_no = 2\n",
    "# Get the probability of the all the dataset in a temporal matter\n",
    "seizure1 = load_single_seizure(data_folder, seizure_no)\n",
    "fs = seizure1.samplingRate"
   ],
   "metadata": {
    "collapsed": false
   },
   "id": "d6ebde70134e3fb7",
   "execution_count": null
  },
  {
   "cell_type": "code",
   "outputs": [],
   "source": [
    "model = model2\n",
    "model_name = model.__class__.__name__\n",
    "\n",
    "seizure1_data = seizure1.ictal\n",
    "seizure1_preictal = seizure1.preictal2\n",
    "\n",
    "seizure1_data_combined = seizure1_data.reshape(-1, seizure1_data.shape[2])\n",
    "seizure1_preictal_combined = seizure1_preictal\n",
    "\n",
    "seizure1_total_con = np.concatenate((seizure1_preictal_combined, seizure1_data_combined), axis=0)\n",
    "\n",
    "# Resample the data to 1s windows with 80% overlap\n",
    "seizure1_total = split_data(seizure1_total_con, fs, overlap=0.8)\n",
    "\n",
    "probabilities_matrix = np.zeros((seizure1_total.shape[0], seizure1_total.shape[2]))\n",
    "\n",
    "# Feed the data to the model\n",
    "for channel in range(seizure1_total.shape[2]):\n",
    "    input_data = seizure1_total[:, :, channel].reshape(-1, 1, seizure1_total.shape[1])\n",
    "    input_data = torch.tensor(input_data, dtype=torch.float32).to('cuda:0')\n",
    "    probabilities_matrix[:, channel] = output_to_probability(model, input_data, 'cuda:0')\n",
    "    "
   ],
   "metadata": {
    "collapsed": false
   },
   "id": "51eb5088d30b8579",
   "execution_count": null
  },
  {
   "cell_type": "code",
   "outputs": [],
   "source": [
    "n_seconds = 80\n",
    "\n",
    "# Create time axes\n",
    "time_raw = np.arange(0, seizure1_total_con.shape[0]) / fs\n",
    "time_prob = np.arange(0, probabilities_matrix.shape[0]) * 0.2\n",
    "\n",
    "# Concatenate data\n",
    "seizure_total = np.concatenate((seizure1_preictal_combined, \n",
    "                              seizure1_data_combined), axis=0)\n",
    "\n",
    "print(\"Mean of seizure data:\", np.mean(seizure1_data_combined))\n",
    "print(\"Mean of preictal data:\", np.mean(seizure1_preictal_combined))\n",
    "print(\"Max of seizure data:\", np.max(seizure1_data_combined))\n",
    "print(\"Max of preictal data:\", np.max(seizure1_preictal_combined))\n",
    "print(\"Min of seizure data:\", np.min(seizure1_data_combined))\n",
    "print(\"Min of preictal data:\", np.min(seizure1_preictal_combined))\n",
    "print(\"Mean of seizure probability:\", np.mean(probabilities_matrix))\n",
    "\n",
    "# Plot probability data\n",
    "plot_time_limited_heatmap(\n",
    "    data=probabilities_matrix.T,\n",
    "    time_axis=time_prob,\n",
    "    n_seconds=n_seconds,\n",
    "    preictal_boundary=50,\n",
    "    title=f\"{model_name} \" + f\"Probability of Seizure{seizure_no} (First {n_seconds}s)\" if n_seconds else \"Probability of Seizure\",\n",
    "    cmap='hot',\n",
    "    save_path=f\"result/Seizure{seizure_no}{model_name}Probability.png\",\n",
    "    flip_yaxis=True\n",
    ")"
   ],
   "metadata": {
    "collapsed": false
   },
   "id": "a0f7d13d2e3e8e85",
   "execution_count": null
  },
  {
   "cell_type": "code",
   "outputs": [],
   "source": [
    "sub_seizure_total = seizure_total[: fs*n_seconds, :]\n",
    "fig = plot_eeg_style(sub_seizure_total.T, fs, spacing_factor=2, color='black', linewidth=0.5)\n",
    "fig.savefig(f\"result/Seizure{seizure_no}RawDataEEG.png\", dpi=300, bbox_inches='tight')\n",
    "plt.show()"
   ],
   "metadata": {
    "collapsed": false
   },
   "id": "b28d2ccca8acd7f7",
   "execution_count": null
  },
  {
   "cell_type": "code",
   "outputs": [],
   "source": [
    "sub_probability_total = probabilities_matrix[: 5*n_seconds, :]\n",
    "fig = plot_eeg_style(sub_probability_total.T, 5, spacing_factor=2, color='black', linewidth=0.5)\n",
    "fig.savefig(f\"result/Seizure{seizure_no}{model_name}_Probability.png\", dpi=300, bbox_inches='tight')\n",
    "plt.show()"
   ],
   "metadata": {
    "collapsed": false
   },
   "id": "d0f58b50eb8f9f01",
   "execution_count": null
  },
  {
   "cell_type": "code",
   "outputs": [],
   "source": [
    "# Rerank the Probability Based on the when the channel first reach the threshold\n",
    "threshold = 0.6\n",
    "# Smooth the probability data over 2 seconds, each tick is 0.2s\n",
    "smooth_window = 50\n",
    "n_seconds = 80\n",
    "\n",
    "# Smooth the probability data\n",
    "probabilities_matrix_smoothed = np.zeros_like(probabilities_matrix)\n",
    "for i in range(probabilities_matrix.shape[1]):\n",
    "    probabilities_matrix_smoothed[:, i] = np.convolve(probabilities_matrix[:, i], \n",
    "                                                       np.ones(smooth_window) / smooth_window, \n",
    "                                                       mode='same')\n",
    "\n",
    "# Find the first index where the probability is greater than the threshold\n",
    "first_threshold_indices = np.argmax(probabilities_matrix_smoothed > threshold, axis=0)\n",
    "if np.sum(first_threshold_indices == 0) > 0:\n",
    "    first_threshold_indices[first_threshold_indices == 0] = len(probabilities_matrix_smoothed)\n",
    "sorted_indices = np.argsort(first_threshold_indices)[::-1]\n",
    "\n",
    "# # Sort the channels based on the number of ticks to reach the threshold\n",
    "# number_of_ticks_each_channel = np.zeros(sub_probability.shape[1])\n",
    "# for i in range(sub_probability.shape[1]):\n",
    "#     number_of_ticks_each_channel[i] = np.sum(sub_probability[:, i] > threshold)\n",
    "#     sorted_indices = np.argsort(number_of_ticks_each_channel)\n",
    "\n",
    "# # Sort the channels based on the mean probability\n",
    "# mean_probabilities = np.mean(sub_probability, axis=0)\n",
    "# sorted_indices = np.argsort(mean_probabilities)\n",
    "\n",
    "# Plot the probability data\n",
    "plot_time_limited_heatmap(\n",
    "    data=probabilities_matrix_smoothed[:, sorted_indices].T,\n",
    "    time_axis=time_prob,\n",
    "    n_seconds=n_seconds,\n",
    "    preictal_boundary=50,\n",
    "    title=f\"{model_name} \" + f\"Probability of Seizure{seizure_no} (First {n_seconds}s) - Reranked\",\n",
    "    cmap='hot',\n",
    "    save_path=f\"result/Seizure{seizure_no}{model_name}ProbabilityReranked.png\",\n",
    "    flip_yaxis=False\n",
    ")"
   ],
   "metadata": {
    "collapsed": false
   },
   "id": "3135e19aaecca965",
   "execution_count": null
  },
  {
   "cell_type": "code",
   "outputs": [],
   "source": [],
   "metadata": {
    "collapsed": false
   },
   "id": "29cd3b326e841dcf"
  }
 ],
 "metadata": {
  "kernelspec": {
   "display_name": "Python 3",
   "language": "python",
   "name": "python3"
  },
  "language_info": {
   "codemirror_mode": {
    "name": "ipython",
    "version": 2
   },
   "file_extension": ".py",
   "mimetype": "text/x-python",
   "name": "python",
   "nbconvert_exporter": "python",
   "pygments_lexer": "ipython2",
   "version": "2.7.6"
  }
 },
 "nbformat": 4,
 "nbformat_minor": 5
}
