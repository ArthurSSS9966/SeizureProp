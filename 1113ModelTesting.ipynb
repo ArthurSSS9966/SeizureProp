{
 "cells": [
  {
   "cell_type": "code",
   "outputs": [],
   "source": [
    "import numpy as np\n",
    "# At the start of your notebook\n",
    "from IPython.display import clear_output\n",
    "import gc\n",
    "\n",
    "# After heavy computations\n",
    "clear_output(wait=True)\n",
    "gc.collect()"
   ],
   "metadata": {
    "collapsed": false
   },
   "id": "a90337c9b40e83dc",
   "execution_count": null
  },
  {
   "cell_type": "code",
   "outputs": [],
   "source": [
    "from steps import setup_and_train_models, analyze_seizure_propagation"
   ],
   "metadata": {
    "collapsed": false
   },
   "id": "8a6fb54970056190",
   "execution_count": null
  },
  {
   "cell_type": "code",
   "outputs": [],
   "source": [
    "RESULT_FOLDER = \"result\"\n",
    "MODEL_FOLDER = \"model\"\n",
    "PAT_NO = 66\n",
    "seizure_no = 1\n",
    "model_name = 'Wavenet'"
   ],
   "metadata": {
    "collapsed": false
   },
   "id": "1f435e4429efe0ce",
   "execution_count": null
  },
  {
   "cell_type": "code",
   "outputs": [],
   "source": [
    "# Do batch analysis to find the best hyperparameters\n",
    "seizures = [1, 2, 3]\n",
    "thresholds = [0.8]\n",
    "smooth_windows = [80]"
   ],
   "metadata": {
    "collapsed": false
   },
   "id": "a1e4cc19cfa56c01",
   "execution_count": null
  },
  {
   "cell_type": "code",
   "outputs": [],
   "source": [
    "results, models = setup_and_train_models(\n",
    "    data_folder=\"data\",\n",
    "    model_folder=\"checkpoints\",\n",
    "    model_names=[model_name],  # Only use CNN1D and Wavenet\n",
    "    train=False,\n",
    "    params={'epochs': 40, 'batch_size': 4096}\n",
    ")"
   ],
   "metadata": {
    "collapsed": false
   },
   "id": "40278f619e39dba2",
   "execution_count": null
  },
  {
   "cell_type": "code",
   "outputs": [],
   "source": [
    "results_propagation_total = []\n",
    "model = models[model_name]\n",
    "threshold = 0.8\n",
    "smooth_window = 80\n",
    "for PAT_NO in [65, 66]:\n",
    "    for seizure_no in seizures:\n",
    "        params = {\n",
    "            'threshold': threshold,\n",
    "            'smooth_window': smooth_window,\n",
    "            'n_seconds': 60,\n",
    "            'seizure_start': 10,\n",
    "        }\n",
    "        results_propagation = analyze_seizure_propagation(\n",
    "            patient_no=PAT_NO,\n",
    "            seizure_no=seizure_no,\n",
    "            model=model,\n",
    "            data_folder='data',\n",
    "            params=params,\n",
    "            save_results_ind=True\n",
    "        )\n",
    "        results_propagation_total.append(results_propagation)"
   ],
   "metadata": {
    "collapsed": false
   },
   "id": "14ccef415a934e81",
   "execution_count": null
  },
  {
   "cell_type": "code",
   "outputs": [],
   "source": [
    "seizure_onset_probability = [results_propagation_total[i]['performance']['accuracy_onset_channels'] for i in range(len(results_propagation_total))]\n",
    "seizure_all_channels = [results_propagation_total[i]['performance']['accuracy_all_channels'] for i in range(len(results_propagation_total))]"
   ],
   "metadata": {
    "collapsed": false
   },
   "id": "b09621dc82271d68",
   "execution_count": null
  },
  {
   "cell_type": "code",
   "outputs": [],
   "source": [
    "# Rearange the results so that it follows [threshold, smooth_window, seizure_no]\n",
    "seizure_onset_probability = np.array(seizure_onset_probability).reshape(len(thresholds), len(smooth_windows), len(seizures))\n",
    "seizure_all_channels = np.array(seizure_all_channels).reshape(len(thresholds), len(smooth_windows), len(seizures))\n",
    "\n",
    "# Calculate the mean of the results for each threshold and smooth window\n",
    "seizure_onset_probability_mean = np.mean(seizure_onset_probability, axis=2)\n",
    "seizure_all_channels_mean = np.mean(seizure_all_channels, axis=2)"
   ],
   "metadata": {
    "collapsed": false
   },
   "id": "70f4ace64c9cbbf4",
   "execution_count": null
  },
  {
   "cell_type": "code",
   "outputs": [],
   "source": [
    "# Plot the results\n",
    "\n",
    "import matplotlib.pyplot as plt\n",
    "import seaborn as sns\n",
    "\n",
    "fig, ax = plt.subplots(1, 2, figsize=(20, 10))\n",
    "\n",
    "sns.heatmap(seizure_onset_probability_mean, ax=ax[0], annot=True, xticklabels=smooth_windows, yticklabels=thresholds)\n",
    "ax[0].set_title('Seizure onset channels')\n",
    "ax[0].set_xlabel('Smooth window')\n",
    "ax[0].set_ylabel('Threshold')\n",
    "\n",
    "sns.heatmap(seizure_all_channels_mean, ax=ax[1], annot=True, xticklabels=smooth_windows, yticklabels=thresholds)\n",
    "ax[1].set_title('Seizure all channels')\n",
    "ax[1].set_xlabel('Smooth window')\n",
    "ax[1].set_ylabel('Threshold')\n",
    "\n",
    "plt.show()\n"
   ],
   "metadata": {
    "collapsed": false
   },
   "id": "5911cfb4d2aa1198",
   "execution_count": null
  },
  {
   "cell_type": "code",
   "outputs": [],
   "source": [],
   "metadata": {
    "collapsed": false
   },
   "id": "9a3a704d61f0b4c4",
   "execution_count": null
  }
 ],
 "metadata": {
  "kernelspec": {
   "display_name": "Python 3",
   "language": "python",
   "name": "python3"
  },
  "language_info": {
   "codemirror_mode": {
    "name": "ipython",
    "version": 2
   },
   "file_extension": ".py",
   "mimetype": "text/x-python",
   "name": "python",
   "nbconvert_exporter": "python",
   "pygments_lexer": "ipython2",
   "version": "2.7.6"
  }
 },
 "nbformat": 4,
 "nbformat_minor": 5
}
