{
 "cells": [
  {
   "cell_type": "code",
   "outputs": [
    {
     "data": {
      "text/plain": "73"
     },
     "execution_count": 2,
     "metadata": {},
     "output_type": "execute_result"
    }
   ],
   "source": [
    "import numpy as np\n",
    "import torch\n",
    "# At the start of your notebook\n",
    "from IPython.display import clear_output\n",
    "import gc\n",
    "\n",
    "# After heavy computations\n",
    "clear_output(wait=True)\n",
    "gc.collect()"
   ],
   "metadata": {
    "collapsed": false
   },
   "id": "a90337c9b40e83dc",
   "execution_count": 2
  },
  {
   "cell_type": "code",
   "outputs": [],
   "source": [
    "from steps import setup_and_train_models, analyze_seizure_propagation"
   ],
   "metadata": {
    "collapsed": false,
    "ExecuteTime": {
     "end_time": "2024-11-26T22:05:51.288450Z",
     "start_time": "2024-11-26T22:05:49.984948700Z"
    }
   },
   "id": "8a6fb54970056190",
   "execution_count": 3
  },
  {
   "cell_type": "code",
   "outputs": [],
   "source": [
    "RESULT_FOLDER = \"result\"\n",
    "MODEL_FOLDER = \"model\"\n",
    "model_names = ['Wavenet']  # 'CNN1D', 'Wavenet', 'LSTM'"
   ],
   "metadata": {
    "collapsed": false,
    "ExecuteTime": {
     "end_time": "2024-11-26T22:05:51.289449800Z",
     "start_time": "2024-11-26T22:05:51.275948800Z"
    }
   },
   "id": "1f435e4429efe0ce",
   "execution_count": 4
  },
  {
   "cell_type": "code",
   "outputs": [],
   "source": [
    "# Do batch analysis to find the best hyperparameters\n",
    "seizures = [1, 2, 3, 5, 7]\n",
    "thresholds = [0.8]\n",
    "smooth_windows = [80]"
   ],
   "metadata": {
    "collapsed": false,
    "ExecuteTime": {
     "end_time": "2024-11-26T22:05:52.230449400Z",
     "start_time": "2024-11-26T22:05:52.212949800Z"
    }
   },
   "id": "a1e4cc19cfa56c01",
   "execution_count": 5
  },
  {
   "cell_type": "code",
   "outputs": [
    {
     "name": "stdout",
     "output_type": "stream",
     "text": [
      "Warning: No marked channels for seizure 10 of patient 62. Using all channels.\n",
      "Warning: No marked channels for seizure 11 of patient 62. Using all channels.\n",
      "Warning: No marked channels for seizure 12 of patient 62. Using all channels.\n",
      "Warning: No marked channels for seizure 13 of patient 62. Using all channels.\n",
      "Warning: No marked channels for seizure 14 of patient 62. Using all channels.\n",
      "Warning: No marked channels for seizure 15 of patient 62. Using all channels.\n",
      "Warning: No marked channels for seizure 16 of patient 62. Using all channels.\n",
      "Warning: No marked channels for seizure 17 of patient 62. Using all channels.\n",
      "Warning: No marked channels for seizure 18 of patient 62. Using all channels.\n",
      "Warning: No marked channels for seizure 19 of patient 62. Using all channels.\n",
      "Warning: No marked channels for seizure 1 of patient 62. Using all channels.\n",
      "Warning: No marked channels for seizure 20 of patient 62. Using all channels.\n",
      "Warning: No marked channels for seizure 21 of patient 62. Using all channels.\n",
      "Warning: No marked channels for seizure 22 of patient 62. Using all channels.\n",
      "Warning: No marked channels for seizure 23 of patient 62. Using all channels.\n",
      "Warning: No marked channels for seizure 2 of patient 62. Using all channels.\n",
      "Warning: No marked channels for seizure 3 of patient 62. Using all channels.\n",
      "Warning: No marked channels for seizure 4 of patient 62. Using all channels.\n",
      "Warning: No marked channels for seizure 5 of patient 62. Using all channels.\n",
      "Warning: No marked channels for seizure 6 of patient 62. Using all channels.\n",
      "Warning: No marked channels for seizure 7 of patient 62. Using all channels.\n",
      "Warning: No marked channels for seizure 8 of patient 62. Using all channels.\n",
      "Warning: No marked channels for seizure 9 of patient 62. Using all channels.\n",
      "Warning: No marked channels for seizure 4 of patient 66. Using all channels.\n",
      "Warning: No marked channels for seizure 5 of patient 66. Using all channels.\n",
      "Warning: No marked channels for seizure 6 of patient 66. Using all channels.\n",
      "Warning: No marked channels for seizure 7 of patient 66. Using all channels.\n",
      "Warning: Channel mismatch in seizure SZ2. Adjusting dimensions...\n",
      "Warning: Channel mismatch in seizure SZ3. Adjusting dimensions...\n",
      "Warning: Channel mismatch in seizure SZ4. Adjusting dimensions...\n",
      "Removed 0 zero-padded samples out of 143136 total samples\n",
      "Using 143136 samples from each class for balanced dataset\n",
      "Final dataset shapes - Training: (229017, 1, 128), Validation: (57255, 1, 128)\n",
      "Removed 0 zero-padded samples out of 21056 total samples\n",
      "Using 21056 samples from each class for balanced dataset\n",
      "Final dataset shapes - Training: (33689, 1, 128), Validation: (8423, 1, 128)\n",
      "Removed 29570 zero-padded samples out of 225000 total samples\n",
      "Using 98000 samples from each class for balanced dataset\n",
      "Final dataset shapes - Training: (156800, 1, 128), Validation: (39200, 1, 128)\n"
     ]
    }
   ],
   "source": [
    "results, models = setup_and_train_models(\n",
    "    data_folder=\"data\",\n",
    "    model_folder=\"checkpoints\",\n",
    "    model_names=model_names,  # Only use CNN1D and Wavenet\n",
    "    train=False,\n",
    "    params={'epochs': 60, 'batch_size': 4096}\n",
    ")"
   ],
   "metadata": {
    "collapsed": false,
    "ExecuteTime": {
     "end_time": "2024-11-26T22:11:49.748449Z",
     "start_time": "2024-11-26T22:11:37.323449300Z"
    }
   },
   "id": "40278f619e39dba2",
   "execution_count": 9
  },
  {
   "cell_type": "code",
   "outputs": [
    {
     "name": "stdout",
     "output_type": "stream",
     "text": [
      "Results saved to: result\\P65\\Seizure1\\analysis_results\n",
      "Results saved to: result\\P65\\Seizure2\\analysis_results\n",
      "Results saved to: result\\P65\\Seizure3\\analysis_results\n",
      "Results saved to: result\\P65\\Seizure5\\analysis_results\n",
      "Results saved to: result\\P65\\Seizure7\\analysis_results\n",
      "Results saved to: result\\P66\\Seizure1\\analysis_results\n",
      "Results saved to: result\\P66\\Seizure2\\analysis_results\n",
      "Results saved to: result\\P66\\Seizure3\\analysis_results\n"
     ]
    }
   ],
   "source": [
    "results_propagation_total = []\n",
    "model_name = 'Wavenet'\n",
    "model = models[model_name]\n",
    "threshold = 0.8\n",
    "smooth_window = 80\n",
    "for PAT_NO in [65, 66]:\n",
    "    for seizure_no in seizures:\n",
    "        if PAT_NO == 66 and seizure_no > 3:\n",
    "            continue\n",
    "        params = {\n",
    "            'threshold': threshold,\n",
    "            'smooth_window': smooth_window,\n",
    "            'n_seconds': 60,\n",
    "            'seizure_start': 10,\n",
    "        }\n",
    "        results_propagation = analyze_seizure_propagation(\n",
    "            patient_no=PAT_NO,\n",
    "            seizure_no=seizure_no,\n",
    "            model=model,\n",
    "            data_folder='data',\n",
    "            params=params,\n",
    "            save_results_ind=True\n",
    "        )\n",
    "        results_propagation_total.append(results_propagation)"
   ],
   "metadata": {
    "collapsed": false,
    "ExecuteTime": {
     "end_time": "2024-11-26T22:12:51.447449600Z",
     "start_time": "2024-11-26T22:11:53.513951800Z"
    }
   },
   "id": "14ccef415a934e81",
   "execution_count": 10
  },
  {
   "cell_type": "code",
   "outputs": [],
   "source": [
    "import torch\n",
    "from torch.utils.data import DataLoader\n",
    "from datasetConstruct import CustomDataset\n",
    "from sklearn.model_selection import StratifiedShuffleSplit\n"
   ],
   "metadata": {
    "collapsed": false,
    "ExecuteTime": {
     "end_time": "2024-11-26T22:12:51.460948600Z",
     "start_time": "2024-11-26T22:12:51.440449300Z"
    }
   },
   "id": "845bf553ad54d8a",
   "execution_count": 11
  },
  {
   "cell_type": "code",
   "outputs": [],
   "source": [
    "def construct_single_dataset(results_propagation, window_size, overlap=0.5):\n",
    "    \"\"\"\n",
    "    Constructs dataset by sliding window over smoothed probabilities to create N-second segments.\n",
    "    \n",
    "    Args:\n",
    "        results_propagation: Dictionary containing smoothed_probabilities and true_seizure_channels\n",
    "        window_size: Size of window in seconds\n",
    "        overlap: Overlap fraction between consecutive windows (default 0.5 for 50% overlap)\n",
    "    \n",
    "    Returns:\n",
    "        X: Array of resampled segments \n",
    "        y: Array of corresponding labels\n",
    "    \"\"\"\n",
    "    # Get raw data excluding first 50 timepoints\n",
    "    raw_data = results_propagation['smoothed_probabilities'][50:, :]\n",
    "    \n",
    "    # Calculate window parameters\n",
    "    window_length = window_size * 5  # 5 samples per second\n",
    "    \n",
    "    # Check if data is long enough for at least one window\n",
    "    if len(raw_data) < window_length:\n",
    "        print(f\"Warning: Data length {len(raw_data)} is shorter than window length {window_length}\")\n",
    "        # Pad with zeros if needed\n",
    "        padding = np.zeros((window_length - len(raw_data), raw_data.shape[1]))\n",
    "        raw_data = np.vstack([raw_data, padding])\n",
    "    \n",
    "    step_size = int(window_length * (1 - overlap))  # Step size based on overlap\n",
    "    \n",
    "    # Ensure at least one complete segment\n",
    "    if step_size == 0:\n",
    "        step_size = 1\n",
    "    \n",
    "    # Calculate number of complete segments\n",
    "    num_segments = (len(raw_data) - window_length) // step_size + 1\n",
    "    \n",
    "    # If no complete segments possible, create just one segment\n",
    "    if num_segments <= 0:\n",
    "        num_segments = 1\n",
    "        \n",
    "    # Initialize arrays\n",
    "    X = np.zeros((num_segments, window_length, raw_data.shape[1]))\n",
    "    y = np.zeros((num_segments, raw_data.shape[1]))\n",
    "    \n",
    "    # Create segments using sliding window\n",
    "    for i in range(num_segments):\n",
    "        start_idx = i * step_size\n",
    "        end_idx = start_idx + window_length\n",
    "        \n",
    "        # Handle case where end_idx exceeds data length\n",
    "        if end_idx > len(raw_data):\n",
    "            # Pad with zeros\n",
    "            segment = raw_data[start_idx:, :]\n",
    "            padding = np.zeros((end_idx - len(raw_data), raw_data.shape[1]))\n",
    "            X[i] = np.vstack([segment, padding])\n",
    "        else:\n",
    "            # Extract segment normally\n",
    "            X[i] = raw_data[start_idx:end_idx, :]\n",
    "        \n",
    "        # Assign labels\n",
    "        y[i][results_propagation['true_seizure_channels']] = 1\n",
    "        \n",
    "    X = np.transpose(X, (1, 0, 2))\n",
    "    # Combine the first two dimensions\n",
    "    X = np.concatenate([X[i] for i in range(X.shape[0])], axis=0)\n",
    "    y = y.flatten()\n",
    "    \n",
    "    return X, y, X, y\n",
    "\n",
    "def construct_channel_recognition_dataset(results_propagation_total, seizure_onset_window_size=60, batch_size=64, split=0.8):\n",
    "    \"\"\"\n",
    "    Constructs balanced datasets for seizure channel recognition and onset detection.\n",
    "    \n",
    "    Args:\n",
    "        results_propagation_total: List of dictionaries containing seizure data\n",
    "        seizure_onset_window_size: Window size in seconds (default: 60)\n",
    "        batch_size: Size of training batches (default: 64)\n",
    "        split: Train/validation split ratio (default: 0.8)\n",
    "    \n",
    "    Returns:\n",
    "        Four DataLoaders: train/val for channel recognition and train/val for onset detection\n",
    "    \"\"\"\n",
    "    \n",
    "    def process_dataset(x_data, y_data, split, batch_size):\n",
    "        \"\"\"Helper function to reduce code duplication\"\"\"\n",
    "        # Balance dataset\n",
    "        pos_idx = np.where(y_data == 1)[0]\n",
    "        neg_idx = np.where(y_data == 0)[0]\n",
    "        n_samples = min(len(pos_idx), len(neg_idx))\n",
    "        \n",
    "        # Sample equal numbers\n",
    "        indices = np.concatenate([\n",
    "            np.random.choice(pos_idx, n_samples, replace=False),\n",
    "            np.random.choice(neg_idx, n_samples, replace=False)\n",
    "        ])\n",
    "        indices = np.random.permutation(indices)\n",
    "        \n",
    "        x_data, y_data = x_data[indices], y_data[indices]\n",
    "        \n",
    "        # Split data\n",
    "        sss = StratifiedShuffleSplit(n_splits=1, test_size=1-split, random_state=0)\n",
    "        train_idx, val_idx = next(sss.split(x_data, y_data))\n",
    "        \n",
    "        # Create datasets and loaders\n",
    "        train_loader = DataLoader(\n",
    "            CustomDataset(x_data[train_idx], y_data[train_idx]),\n",
    "            batch_size=batch_size,\n",
    "            shuffle=True\n",
    "        )\n",
    "        val_loader = DataLoader(\n",
    "            CustomDataset(x_data[val_idx], y_data[val_idx]),\n",
    "            batch_size=1,\n",
    "            shuffle=True\n",
    "        )\n",
    "        \n",
    "        return train_loader, val_loader\n",
    "\n",
    "    # Collect data from all samples\n",
    "    x_total, y_total = [], []\n",
    "    x_onset_total, y_onset_total = [], []\n",
    "    \n",
    "    for results in results_propagation_total:\n",
    "        x, y, x_onset, y_onset = construct_single_dataset(\n",
    "            results, \n",
    "            seizure_onset_window_size\n",
    "        )\n",
    "        x_total.append(x)\n",
    "        y_total.append(y)\n",
    "        x_onset_total.append(x_onset)\n",
    "        y_onset_total.append(y_onset)\n",
    "    \n",
    "    # Process channel recognition data\n",
    "    x_total = np.expand_dims(np.concatenate(x_total, axis=1).T, axis=1)\n",
    "    y_total = np.concatenate(y_total)\n",
    "    \n",
    "    channel_train, channel_val = process_dataset(\n",
    "        x_total, y_total, split, batch_size\n",
    "    )\n",
    "    \n",
    "    # Process onset detection data \n",
    "    x_onset_total = np.expand_dims(np.concatenate(x_onset_total, axis=1).T, axis=1)\n",
    "    y_onset_total = np.concatenate(y_onset_total)\n",
    "    \n",
    "    onset_train, onset_val = process_dataset(\n",
    "        x_onset_total, y_onset_total, split, batch_size\n",
    "    )\n",
    "    \n",
    "    return channel_train, channel_val, onset_train, onset_val"
   ],
   "metadata": {
    "collapsed": false,
    "ExecuteTime": {
     "end_time": "2024-11-26T22:24:35.465448600Z",
     "start_time": "2024-11-26T22:24:35.452949500Z"
    }
   },
   "id": "9a3a704d61f0b4c4",
   "execution_count": null
  },
  {
   "cell_type": "code",
   "outputs": [],
   "source": [
    "seizure_channels_dataset_train, seizure_channels_dataset_val, seizure_onset_dataset_train, seizure_onset_dataset_val = construct_channel_recognition_dataset(results_propagation_total, 20, batch_size=512)"
   ],
   "metadata": {
    "collapsed": false,
    "ExecuteTime": {
     "end_time": "2024-11-26T22:24:37.664449500Z",
     "start_time": "2024-11-26T22:24:37.581990500Z"
    }
   },
   "id": "26997a5ef8715da0",
   "execution_count": 33
  },
  {
   "cell_type": "code",
   "outputs": [],
   "source": [
    "from models import Wavenet, train_using_optimizer"
   ],
   "metadata": {
    "collapsed": false,
    "ExecuteTime": {
     "end_time": "2024-11-26T22:24:38.479948600Z",
     "start_time": "2024-11-26T22:24:38.469450700Z"
    }
   },
   "id": "565898afbebb209e",
   "execution_count": 34
  },
  {
   "cell_type": "code",
   "outputs": [
    {
     "name": "stderr",
     "output_type": "stream",
     "text": [
      "Epoch 1/200: 100%|██████████| 17/17 [00:00<00:00, 52.15it/s, loss=0.6921, avg_loss=0.6932]\n",
      "Epoch 2/200: 100%|██████████| 17/17 [00:00<00:00, 77.10it/s, loss=0.6922, avg_loss=0.6930]\n",
      "Epoch 3/200: 100%|██████████| 17/17 [00:00<00:00, 56.86it/s, loss=0.6952, avg_loss=0.6931]\n",
      "Epoch 4/200: 100%|██████████| 17/17 [00:00<00:00, 71.73it/s, loss=0.6930, avg_loss=0.6930]\n",
      "Epoch 5/200: 100%|██████████| 17/17 [00:00<00:00, 81.34it/s, loss=0.6924, avg_loss=0.6929]\n",
      "Epoch 6/200: 100%|██████████| 17/17 [00:00<00:00, 68.00it/s, loss=0.6935, avg_loss=0.6931]\n",
      "Epoch 7/200: 100%|██████████| 17/17 [00:00<00:00, 61.93it/s, loss=0.6940, avg_loss=0.6929]\n",
      "Epoch 8/200: 100%|██████████| 17/17 [00:00<00:00, 68.41it/s, loss=0.6928, avg_loss=0.6928]\n",
      "Epoch 9/200: 100%|██████████| 17/17 [00:00<00:00, 66.41it/s, loss=0.6926, avg_loss=0.6928]\n",
      "Epoch 10/200: 100%|██████████| 17/17 [00:00<00:00, 71.28it/s, loss=0.6920, avg_loss=0.6928]\n",
      "Epoch 11/200: 100%|██████████| 17/17 [00:00<00:00, 74.89it/s, loss=0.6923, avg_loss=0.6924]\n",
      "Epoch 12/200: 100%|██████████| 17/17 [00:00<00:00, 71.73it/s, loss=0.6911, avg_loss=0.6924]\n",
      "Epoch 13/200: 100%|██████████| 17/17 [00:00<00:00, 74.08it/s, loss=0.6924, avg_loss=0.6922]\n",
      "Epoch 14/200: 100%|██████████| 17/17 [00:00<00:00, 77.10it/s, loss=0.6907, avg_loss=0.6919]\n",
      "Epoch 15/200: 100%|██████████| 17/17 [00:00<00:00, 70.09it/s, loss=0.6907, avg_loss=0.6923]\n",
      "Epoch 16/200: 100%|██████████| 17/17 [00:00<00:00, 70.81it/s, loss=0.6846, avg_loss=0.6912]\n",
      "Epoch 17/200: 100%|██████████| 17/17 [00:00<00:00, 34.45it/s, loss=0.6917, avg_loss=0.6914]\n",
      "Epoch 18/200: 100%|██████████| 17/17 [00:00<00:00, 71.13it/s, loss=0.6888, avg_loss=0.6913]\n",
      "Epoch 19/200: 100%|██████████| 17/17 [00:00<00:00, 74.24it/s, loss=0.6920, avg_loss=0.6910]\n",
      "Epoch 20/200: 100%|██████████| 17/17 [00:00<00:00, 72.49it/s, loss=0.6975, avg_loss=0.6915]\n"
     ]
    },
    {
     "name": "stdout",
     "output_type": "stream",
     "text": [
      "Epoch [20/200]\n",
      "Training Loss: 0.6915\n",
      "Validation Loss: 0.6912\n",
      "Validation Accuracy: 0.5227\n"
     ]
    },
    {
     "name": "stderr",
     "output_type": "stream",
     "text": [
      "Epoch 21/200: 100%|██████████| 17/17 [00:00<00:00, 59.23it/s, loss=0.6857, avg_loss=0.6902]\n",
      "Epoch 22/200: 100%|██████████| 17/17 [00:00<00:00, 74.73it/s, loss=0.6843, avg_loss=0.6907]\n",
      "Epoch 23/200: 100%|██████████| 17/17 [00:00<00:00, 82.32it/s, loss=0.6953, avg_loss=0.6902]\n",
      "Epoch 24/200: 100%|██████████| 17/17 [00:00<00:00, 92.64it/s, loss=0.6840, avg_loss=0.6908]\n",
      "Epoch 25/200: 100%|██████████| 17/17 [00:00<00:00, 80.38it/s, loss=0.6918, avg_loss=0.6925]\n",
      "Epoch 26/200: 100%|██████████| 17/17 [00:00<00:00, 66.67it/s, loss=0.6878, avg_loss=0.6897]\n",
      "Epoch 27/200: 100%|██████████| 17/17 [00:00<00:00, 81.54it/s, loss=0.6927, avg_loss=0.6916]\n",
      "Epoch 28/200: 100%|██████████| 17/17 [00:00<00:00, 75.22it/s, loss=0.6892, avg_loss=0.6907]\n",
      "Epoch 29/200: 100%|██████████| 17/17 [00:00<00:00, 77.45it/s, loss=0.6786, avg_loss=0.6893]\n",
      "Epoch 30/200: 100%|██████████| 17/17 [00:00<00:00, 72.63it/s, loss=0.6895, avg_loss=0.6900]\n",
      "Epoch 31/200: 100%|██████████| 17/17 [00:00<00:00, 76.58it/s, loss=0.6888, avg_loss=0.6896]\n",
      "Epoch 32/200: 100%|██████████| 17/17 [00:00<00:00, 75.22it/s, loss=0.6920, avg_loss=0.6894]\n",
      "Epoch 33/200: 100%|██████████| 17/17 [00:00<00:00, 77.10it/s, loss=0.6967, avg_loss=0.6904]\n",
      "Epoch 34/200: 100%|██████████| 17/17 [00:00<00:00, 76.41it/s, loss=0.6972, avg_loss=0.6916]\n",
      "Epoch 35/200: 100%|██████████| 17/17 [00:00<00:00, 81.14it/s, loss=0.6830, avg_loss=0.6900]\n",
      "Epoch 36/200: 100%|██████████| 17/17 [00:00<00:00, 55.18it/s, loss=0.6868, avg_loss=0.6898]\n",
      "Epoch 37/200: 100%|██████████| 17/17 [00:00<00:00, 73.43it/s, loss=0.6887, avg_loss=0.6897]\n",
      "Epoch 38/200: 100%|██████████| 17/17 [00:00<00:00, 69.25it/s, loss=0.6823, avg_loss=0.6889]\n",
      "Epoch 39/200: 100%|██████████| 17/17 [00:00<00:00, 75.22it/s, loss=0.6786, avg_loss=0.6895]\n",
      "Epoch 40/200: 100%|██████████| 17/17 [00:00<00:00, 70.71it/s, loss=0.6880, avg_loss=0.6882]\n"
     ]
    },
    {
     "name": "stdout",
     "output_type": "stream",
     "text": [
      "Epoch [40/200]\n",
      "Training Loss: 0.6882\n",
      "Validation Loss: 0.6906\n",
      "Validation Accuracy: 0.5279\n"
     ]
    },
    {
     "name": "stderr",
     "output_type": "stream",
     "text": [
      "Epoch 41/200: 100%|██████████| 17/17 [00:00<00:00, 86.52it/s, loss=0.6892, avg_loss=0.6888]\n",
      "Epoch 42/200: 100%|██████████| 17/17 [00:00<00:00, 82.12it/s, loss=0.6879, avg_loss=0.6887]\n",
      "Epoch 43/200: 100%|██████████| 17/17 [00:00<00:00, 91.64it/s, loss=0.6869, avg_loss=0.6895]\n",
      "Epoch 44/200: 100%|██████████| 17/17 [00:00<00:00, 89.71it/s, loss=0.6881, avg_loss=0.6887]\n",
      "Epoch 45/200: 100%|██████████| 17/17 [00:00<00:00, 84.16it/s, loss=0.6828, avg_loss=0.6909]\n",
      "Epoch 46/200: 100%|██████████| 17/17 [00:00<00:00, 73.30it/s, loss=0.6846, avg_loss=0.6890]\n",
      "Epoch 47/200: 100%|██████████| 17/17 [00:00<00:00, 71.28it/s, loss=0.6827, avg_loss=0.6885]\n",
      "Epoch 48/200: 100%|██████████| 17/17 [00:00<00:00, 66.41it/s, loss=0.6953, avg_loss=0.6897]\n",
      "Epoch 49/200: 100%|██████████| 17/17 [00:00<00:00, 70.69it/s, loss=0.7161, avg_loss=0.6894]\n",
      "Epoch 50/200: 100%|██████████| 17/17 [00:00<00:00, 68.96it/s, loss=0.6833, avg_loss=0.6887]\n",
      "Epoch 51/200: 100%|██████████| 17/17 [00:00<00:00, 72.34it/s, loss=0.6863, avg_loss=0.6893]\n",
      "Epoch 52/200: 100%|██████████| 17/17 [00:00<00:00, 35.68it/s, loss=0.6894, avg_loss=0.6886]\n",
      "Epoch 53/200: 100%|██████████| 17/17 [00:00<00:00, 56.11it/s, loss=0.6885, avg_loss=0.6886]\n",
      "Epoch 54/200: 100%|██████████| 17/17 [00:00<00:00, 71.73it/s, loss=0.6909, avg_loss=0.6890]\n",
      "Epoch 55/200: 100%|██████████| 17/17 [00:00<00:00, 74.40it/s, loss=0.6976, avg_loss=0.6891]\n",
      "Epoch 56/200: 100%|██████████| 17/17 [00:00<00:00, 72.03it/s, loss=0.6949, avg_loss=0.6896]\n",
      "Epoch 57/200: 100%|██████████| 17/17 [00:00<00:00, 71.73it/s, loss=0.6978, avg_loss=0.6887]\n",
      "Epoch 58/200: 100%|██████████| 17/17 [00:00<00:00, 68.55it/s, loss=0.6904, avg_loss=0.6900]\n",
      "Epoch 59/200: 100%|██████████| 17/17 [00:00<00:00, 71.28it/s, loss=0.6849, avg_loss=0.6885]\n",
      "Epoch 60/200: 100%|██████████| 17/17 [00:00<00:00, 71.28it/s, loss=0.6900, avg_loss=0.6887]\n"
     ]
    },
    {
     "name": "stdout",
     "output_type": "stream",
     "text": [
      "Epoch [60/200]\n",
      "Training Loss: 0.6887\n",
      "Validation Loss: 0.6899\n",
      "Validation Accuracy: 0.5346\n"
     ]
    },
    {
     "name": "stderr",
     "output_type": "stream",
     "text": [
      "Epoch 61/200: 100%|██████████| 17/17 [00:00<00:00, 60.07it/s, loss=0.6899, avg_loss=0.6877]\n",
      "Epoch 62/200: 100%|██████████| 17/17 [00:00<00:00, 81.93it/s, loss=0.6807, avg_loss=0.6872]\n",
      "Epoch 63/200: 100%|██████████| 17/17 [00:00<00:00, 82.33it/s, loss=0.6978, avg_loss=0.6893]\n",
      "Epoch 64/200: 100%|██████████| 17/17 [00:00<00:00, 82.73it/s, loss=0.6845, avg_loss=0.6889]\n",
      "Epoch 65/200: 100%|██████████| 17/17 [00:00<00:00, 84.78it/s, loss=0.6865, avg_loss=0.6891]\n",
      "Epoch 66/200: 100%|██████████| 17/17 [00:00<00:00, 81.34it/s, loss=0.6909, avg_loss=0.6882]\n",
      "Epoch 67/200: 100%|██████████| 17/17 [00:00<00:00, 82.55it/s, loss=0.6912, avg_loss=0.6887]\n",
      "Epoch 68/200: 100%|██████████| 17/17 [00:00<00:00, 72.36it/s, loss=0.6880, avg_loss=0.6886]\n",
      "Epoch 69/200: 100%|██████████| 17/17 [00:00<00:00, 79.81it/s, loss=0.6941, avg_loss=0.6882]\n",
      "Epoch 70/200: 100%|██████████| 17/17 [00:00<00:00, 75.39it/s, loss=0.6860, avg_loss=0.6875]\n",
      "Epoch 71/200: 100%|██████████| 17/17 [00:00<00:00, 71.73it/s, loss=0.6912, avg_loss=0.6875]\n",
      "Epoch 72/200: 100%|██████████| 17/17 [00:00<00:00, 69.11it/s, loss=0.6932, avg_loss=0.6884]\n",
      "Epoch 73/200: 100%|██████████| 17/17 [00:00<00:00, 71.88it/s, loss=0.6943, avg_loss=0.6878]\n",
      "Epoch 74/200: 100%|██████████| 17/17 [00:00<00:00, 73.77it/s, loss=0.6852, avg_loss=0.6876]\n",
      "Epoch 75/200: 100%|██████████| 17/17 [00:00<00:00, 72.96it/s, loss=0.6948, avg_loss=0.6876]\n",
      "Epoch 76/200: 100%|██████████| 17/17 [00:00<00:00, 68.41it/s, loss=0.6865, avg_loss=0.6874]\n",
      "Epoch 77/200: 100%|██████████| 17/17 [00:00<00:00, 68.12it/s, loss=0.6819, avg_loss=0.6872]\n",
      "Epoch 78/200: 100%|██████████| 17/17 [00:00<00:00, 71.71it/s, loss=0.6791, avg_loss=0.6874]\n",
      "Epoch 79/200: 100%|██████████| 17/17 [00:00<00:00, 75.19it/s, loss=0.6880, avg_loss=0.6886]\n",
      "Epoch 80/200: 100%|██████████| 17/17 [00:00<00:00, 75.27it/s, loss=0.6915, avg_loss=0.6881]\n"
     ]
    },
    {
     "name": "stdout",
     "output_type": "stream",
     "text": [
      "Epoch [80/200]\n",
      "Training Loss: 0.6881\n",
      "Validation Loss: 0.6890\n",
      "Validation Accuracy: 0.5426\n"
     ]
    },
    {
     "name": "stderr",
     "output_type": "stream",
     "text": [
      "Epoch 81/200: 100%|██████████| 17/17 [00:00<00:00, 60.19it/s, loss=0.6792, avg_loss=0.6883]\n",
      "Epoch 82/200: 100%|██████████| 17/17 [00:00<00:00, 55.72it/s, loss=0.6898, avg_loss=0.6880]\n",
      "Epoch 83/200: 100%|██████████| 17/17 [00:00<00:00, 72.36it/s, loss=0.6821, avg_loss=0.6886]\n",
      "Epoch 84/200: 100%|██████████| 17/17 [00:00<00:00, 101.44it/s, loss=0.6926, avg_loss=0.6879]\n",
      "Epoch 85/200: 100%|██████████| 17/17 [00:00<00:00, 99.42it/s, loss=0.6798, avg_loss=0.6874] \n",
      "Epoch 86/200: 100%|██████████| 17/17 [00:00<00:00, 96.87it/s, loss=0.7022, avg_loss=0.6886]\n",
      "Epoch 87/200: 100%|██████████| 17/17 [00:00<00:00, 42.82it/s, loss=0.6889, avg_loss=0.6887]\n",
      "Epoch 88/200: 100%|██████████| 17/17 [00:00<00:00, 93.66it/s, loss=0.6846, avg_loss=0.6865]\n",
      "Epoch 89/200: 100%|██████████| 17/17 [00:00<00:00, 87.86it/s, loss=0.6902, avg_loss=0.6873]\n",
      "Epoch 90/200: 100%|██████████| 17/17 [00:00<00:00, 99.13it/s, loss=0.6821, avg_loss=0.6871] \n",
      "Epoch 91/200: 100%|██████████| 17/17 [00:00<00:00, 86.05it/s, loss=0.6913, avg_loss=0.6860]\n",
      "Epoch 92/200: 100%|██████████| 17/17 [00:00<00:00, 97.22it/s, loss=0.6891, avg_loss=0.6874]\n",
      "Epoch 93/200: 100%|██████████| 17/17 [00:00<00:00, 92.64it/s, loss=0.6890, avg_loss=0.6874]\n",
      "Epoch 94/200: 100%|██████████| 17/17 [00:00<00:00, 104.29it/s, loss=0.6891, avg_loss=0.6886]\n",
      "Epoch 95/200: 100%|██████████| 17/17 [00:00<00:00, 97.75it/s, loss=0.6905, avg_loss=0.6885]\n",
      "Epoch 96/200: 100%|██████████| 17/17 [00:00<00:00, 98.55it/s, loss=0.6767, avg_loss=0.6860]\n",
      "Epoch 97/200: 100%|██████████| 17/17 [00:00<00:00, 97.11it/s, loss=0.7038, avg_loss=0.6890]\n",
      "Epoch 98/200: 100%|██████████| 17/17 [00:00<00:00, 102.10it/s, loss=0.6902, avg_loss=0.6886]\n",
      "Epoch 99/200: 100%|██████████| 17/17 [00:00<00:00, 94.97it/s, loss=0.6907, avg_loss=0.6886]\n",
      "Epoch 100/200: 100%|██████████| 17/17 [00:00<00:00, 95.51it/s, loss=0.6788, avg_loss=0.6876]\n"
     ]
    },
    {
     "name": "stdout",
     "output_type": "stream",
     "text": [
      "Epoch [100/200]\n",
      "Training Loss: 0.6876\n",
      "Validation Loss: 0.6882\n",
      "Validation Accuracy: 0.5407\n"
     ]
    },
    {
     "name": "stderr",
     "output_type": "stream",
     "text": [
      "Epoch 101/200: 100%|██████████| 17/17 [00:00<00:00, 72.37it/s, loss=0.7065, avg_loss=0.6885]\n",
      "Epoch 102/200: 100%|██████████| 17/17 [00:00<00:00, 77.63it/s, loss=0.6920, avg_loss=0.6880]\n",
      "Epoch 103/200: 100%|██████████| 17/17 [00:00<00:00, 78.17it/s, loss=0.6831, avg_loss=0.6876]\n",
      "Epoch 104/200: 100%|██████████| 17/17 [00:00<00:00, 77.93it/s, loss=0.6815, avg_loss=0.6865]\n",
      "Epoch 105/200: 100%|██████████| 17/17 [00:00<00:00, 76.78it/s, loss=0.6719, avg_loss=0.6863]\n",
      "Epoch 106/200: 100%|██████████| 17/17 [00:00<00:00, 75.89it/s, loss=0.6628, avg_loss=0.6868]\n",
      "Epoch 107/200: 100%|██████████| 17/17 [00:00<00:00, 73.43it/s, loss=0.6924, avg_loss=0.6885]\n",
      "Epoch 108/200: 100%|██████████| 17/17 [00:00<00:00, 68.14it/s, loss=0.6904, avg_loss=0.6874]\n",
      "Epoch 109/200: 100%|██████████| 17/17 [00:00<00:00, 71.25it/s, loss=0.6865, avg_loss=0.6884]\n",
      "Epoch 110/200: 100%|██████████| 17/17 [00:00<00:00, 72.49it/s, loss=0.6810, avg_loss=0.6862]\n",
      "Epoch 111/200: 100%|██████████| 17/17 [00:00<00:00, 42.98it/s, loss=0.6949, avg_loss=0.6876]\n",
      "Epoch 112/200: 100%|██████████| 17/17 [00:00<00:00, 55.92it/s, loss=0.6858, avg_loss=0.6866]\n",
      "Epoch 113/200: 100%|██████████| 17/17 [00:00<00:00, 78.34it/s, loss=0.6776, avg_loss=0.6877]\n",
      "Epoch 114/200: 100%|██████████| 17/17 [00:00<00:00, 84.37it/s, loss=0.6844, avg_loss=0.6865]\n",
      "Epoch 115/200: 100%|██████████| 17/17 [00:00<00:00, 86.07it/s, loss=0.6771, avg_loss=0.6856]\n",
      "Epoch 116/200: 100%|██████████| 17/17 [00:00<00:00, 86.96it/s, loss=0.6847, avg_loss=0.6879]\n",
      "Epoch 117/200: 100%|██████████| 17/17 [00:00<00:00, 83.13it/s, loss=0.6946, avg_loss=0.6872]\n",
      "Epoch 118/200: 100%|██████████| 17/17 [00:00<00:00, 87.40it/s, loss=0.6915, avg_loss=0.6871]\n",
      "Epoch 119/200: 100%|██████████| 17/17 [00:00<00:00, 76.75it/s, loss=0.6834, avg_loss=0.6875]\n",
      "Epoch 120/200: 100%|██████████| 17/17 [00:00<00:00, 35.64it/s, loss=0.6877, avg_loss=0.6867]\n"
     ]
    },
    {
     "name": "stdout",
     "output_type": "stream",
     "text": [
      "Epoch [120/200]\n",
      "Training Loss: 0.6867\n",
      "Validation Loss: 0.6885\n",
      "Validation Accuracy: 0.5379\n"
     ]
    },
    {
     "name": "stderr",
     "output_type": "stream",
     "text": [
      "Epoch 121/200: 100%|██████████| 17/17 [00:00<00:00, 83.09it/s, loss=0.6974, avg_loss=0.6870]\n",
      "Epoch 122/200: 100%|██████████| 17/17 [00:00<00:00, 77.58it/s, loss=0.6750, avg_loss=0.6869]\n",
      "Epoch 123/200: 100%|██████████| 17/17 [00:00<00:00, 79.10it/s, loss=0.6916, avg_loss=0.6877]\n",
      "Epoch 124/200: 100%|██████████| 17/17 [00:00<00:00, 79.09it/s, loss=0.6943, avg_loss=0.6871]\n",
      "Epoch 125/200: 100%|██████████| 17/17 [00:00<00:00, 76.60it/s, loss=0.6866, avg_loss=0.6886]\n",
      "Epoch 126/200: 100%|██████████| 17/17 [00:00<00:00, 76.06it/s, loss=0.6867, avg_loss=0.6871]\n",
      "Epoch 127/200: 100%|██████████| 17/17 [00:00<00:00, 71.43it/s, loss=0.6890, avg_loss=0.6884]\n",
      "Epoch 128/200: 100%|██████████| 17/17 [00:00<00:00, 74.07it/s, loss=0.6793, avg_loss=0.6889]\n",
      "Epoch 129/200: 100%|██████████| 17/17 [00:00<00:00, 78.16it/s, loss=0.6858, avg_loss=0.6867]\n",
      "Epoch 130/200: 100%|██████████| 17/17 [00:00<00:00, 75.04it/s, loss=0.6912, avg_loss=0.6879]\n",
      "Epoch 131/200: 100%|██████████| 17/17 [00:00<00:00, 75.06it/s, loss=0.6895, avg_loss=0.6898]\n",
      "Epoch 132/200: 100%|██████████| 17/17 [00:00<00:00, 70.98it/s, loss=0.6872, avg_loss=0.6876]\n",
      "Epoch 133/200: 100%|██████████| 17/17 [00:00<00:00, 66.02it/s, loss=0.6848, avg_loss=0.6870]\n",
      "Epoch 134/200: 100%|██████████| 17/17 [00:00<00:00, 68.97it/s, loss=0.6874, avg_loss=0.6873]\n",
      "Epoch 135/200: 100%|██████████| 17/17 [00:00<00:00, 68.66it/s, loss=0.6837, avg_loss=0.6861]\n",
      "Epoch 136/200: 100%|██████████| 17/17 [00:00<00:00, 71.58it/s, loss=0.6952, avg_loss=0.6887]\n",
      "Epoch 137/200: 100%|██████████| 17/17 [00:00<00:00, 68.55it/s, loss=0.6834, avg_loss=0.6851]\n",
      "Epoch 138/200: 100%|██████████| 17/17 [00:00<00:00, 66.80it/s, loss=0.6936, avg_loss=0.6869]\n",
      "Epoch 139/200: 100%|██████████| 17/17 [00:00<00:00, 68.00it/s, loss=0.6842, avg_loss=0.6864]\n",
      "Epoch 140/200: 100%|██████████| 17/17 [00:00<00:00, 72.03it/s, loss=0.6739, avg_loss=0.6865]\n"
     ]
    },
    {
     "name": "stdout",
     "output_type": "stream",
     "text": [
      "Epoch [140/200]\n",
      "Training Loss: 0.6865\n",
      "Validation Loss: 0.6884\n",
      "Validation Accuracy: 0.5421\n"
     ]
    },
    {
     "name": "stderr",
     "output_type": "stream",
     "text": [
      "Epoch 141/200: 100%|██████████| 17/17 [00:00<00:00, 57.34it/s, loss=0.6934, avg_loss=0.6871]\n",
      "Epoch 142/200: 100%|██████████| 17/17 [00:00<00:00, 83.16it/s, loss=0.6877, avg_loss=0.6867]\n",
      "Epoch 143/200: 100%|██████████| 17/17 [00:00<00:00, 83.54it/s, loss=0.6944, avg_loss=0.6870]\n",
      "Epoch 144/200: 100%|██████████| 17/17 [00:00<00:00, 76.23it/s, loss=0.6919, avg_loss=0.6869]\n",
      "Epoch 145/200: 100%|██████████| 17/17 [00:00<00:00, 81.15it/s, loss=0.6922, avg_loss=0.6877]\n",
      "Epoch 146/200: 100%|██████████| 17/17 [00:00<00:00, 80.76it/s, loss=0.6846, avg_loss=0.6862]\n",
      "Epoch 147/200: 100%|██████████| 17/17 [00:00<00:00, 76.75it/s, loss=0.6930, avg_loss=0.6875]\n",
      "Epoch 148/200: 100%|██████████| 17/17 [00:00<00:00, 75.22it/s, loss=0.6871, avg_loss=0.6878]\n",
      "Epoch 149/200: 100%|██████████| 17/17 [00:00<00:00, 70.10it/s, loss=0.6822, avg_loss=0.6874]\n",
      "Epoch 150/200: 100%|██████████| 17/17 [00:00<00:00, 76.41it/s, loss=0.6788, avg_loss=0.6867]\n",
      "Epoch 151/200: 100%|██████████| 17/17 [00:00<00:00, 81.93it/s, loss=0.6820, avg_loss=0.6869]\n",
      "Epoch 152/200: 100%|██████████| 17/17 [00:00<00:00, 82.53it/s, loss=0.6869, avg_loss=0.6865]\n",
      "Epoch 153/200: 100%|██████████| 17/17 [00:00<00:00, 88.54it/s, loss=0.6909, avg_loss=0.6868]\n",
      "Epoch 154/200: 100%|██████████| 17/17 [00:00<00:00, 95.24it/s, loss=0.6797, avg_loss=0.6851]\n",
      "Epoch 155/200: 100%|██████████| 17/17 [00:00<00:00, 41.73it/s, loss=0.6927, avg_loss=0.6878]\n",
      "Epoch 156/200: 100%|██████████| 17/17 [00:00<00:00, 94.71it/s, loss=0.6844, avg_loss=0.6874]\n",
      "Epoch 157/200: 100%|██████████| 17/17 [00:00<00:00, 93.40it/s, loss=0.6774, avg_loss=0.6874]\n",
      "Epoch 158/200: 100%|██████████| 17/17 [00:00<00:00, 89.47it/s, loss=0.6778, avg_loss=0.6866]\n",
      "Epoch 159/200: 100%|██████████| 17/17 [00:00<00:00, 93.92it/s, loss=0.6916, avg_loss=0.6872]\n",
      "Epoch 160/200: 100%|██████████| 17/17 [00:00<00:00, 86.73it/s, loss=0.6870, avg_loss=0.6871]\n"
     ]
    },
    {
     "name": "stdout",
     "output_type": "stream",
     "text": [
      "Epoch [160/200]\n",
      "Training Loss: 0.6871\n",
      "Validation Loss: 0.6885\n",
      "Validation Accuracy: 0.5388\n"
     ]
    },
    {
     "name": "stderr",
     "output_type": "stream",
     "text": [
      "Epoch 161/200: 100%|██████████| 17/17 [00:00<00:00, 91.15it/s, loss=0.6765, avg_loss=0.6868]\n",
      "Epoch 162/200: 100%|██████████| 17/17 [00:00<00:00, 91.65it/s, loss=0.6888, avg_loss=0.6888]\n",
      "Epoch 163/200: 100%|██████████| 17/17 [00:00<00:00, 94.44it/s, loss=0.6815, avg_loss=0.6873]\n",
      "Epoch 164/200: 100%|██████████| 17/17 [00:00<00:00, 96.59it/s, loss=0.6880, avg_loss=0.6863]\n",
      "Epoch 165/200: 100%|██████████| 17/17 [00:00<00:00, 96.05it/s, loss=0.6970, avg_loss=0.6888]\n",
      "Epoch 166/200: 100%|██████████| 17/17 [00:00<00:00, 89.23it/s, loss=0.6734, avg_loss=0.6865]\n",
      "Epoch 167/200: 100%|██████████| 17/17 [00:00<00:00, 89.47it/s, loss=0.6832, avg_loss=0.6860]\n",
      "Epoch 168/200: 100%|██████████| 17/17 [00:00<00:00, 91.64it/s, loss=0.6875, avg_loss=0.6862]\n",
      "Epoch 169/200: 100%|██████████| 17/17 [00:00<00:00, 87.18it/s, loss=0.6865, avg_loss=0.6878]\n",
      "Epoch 170/200: 100%|██████████| 17/17 [00:00<00:00, 86.13it/s, loss=0.6740, avg_loss=0.6858]\n",
      "Epoch 171/200: 100%|██████████| 17/17 [00:00<00:00, 88.08it/s, loss=0.6793, avg_loss=0.6860]\n",
      "Epoch 172/200: 100%|██████████| 17/17 [00:00<00:00, 87.82it/s, loss=0.6763, avg_loss=0.6866]\n",
      "Epoch 173/200: 100%|██████████| 17/17 [00:00<00:00, 90.18it/s, loss=0.6804, avg_loss=0.6867]\n",
      "Epoch 174/200: 100%|██████████| 17/17 [00:00<00:00, 85.86it/s, loss=0.6947, avg_loss=0.6867]\n",
      "Epoch 175/200: 100%|██████████| 17/17 [00:00<00:00, 83.95it/s, loss=0.7018, avg_loss=0.6871]\n",
      "Epoch 176/200: 100%|██████████| 17/17 [00:00<00:00, 86.08it/s, loss=0.6758, avg_loss=0.6867]\n",
      "Epoch 177/200: 100%|██████████| 17/17 [00:00<00:00, 84.37it/s, loss=0.6829, avg_loss=0.6863]\n",
      "Epoch 178/200: 100%|██████████| 17/17 [00:00<00:00, 81.54it/s, loss=0.6872, avg_loss=0.6854]\n",
      "Epoch 179/200: 100%|██████████| 17/17 [00:00<00:00, 82.13it/s, loss=0.6867, avg_loss=0.6866]\n",
      "Epoch 180/200: 100%|██████████| 17/17 [00:00<00:00, 76.40it/s, loss=0.6902, avg_loss=0.6868]\n"
     ]
    },
    {
     "name": "stdout",
     "output_type": "stream",
     "text": [
      "Epoch [180/200]\n",
      "Training Loss: 0.6868\n",
      "Validation Loss: 0.6878\n",
      "Validation Accuracy: 0.5450\n"
     ]
    },
    {
     "name": "stderr",
     "output_type": "stream",
     "text": [
      "Epoch 181/200: 100%|██████████| 17/17 [00:00<00:00, 56.10it/s, loss=0.6880, avg_loss=0.6868]\n",
      "Epoch 182/200: 100%|██████████| 17/17 [00:00<00:00, 85.61it/s, loss=0.6975, avg_loss=0.6848]\n",
      "Epoch 183/200: 100%|██████████| 17/17 [00:00<00:00, 83.54it/s, loss=0.6776, avg_loss=0.6874]\n",
      "Epoch 184/200: 100%|██████████| 17/17 [00:00<00:00, 97.42it/s, loss=0.6825, avg_loss=0.6872]\n",
      "Epoch 185/200: 100%|██████████| 17/17 [00:00<00:00, 107.26it/s, loss=0.6889, avg_loss=0.6874]\n",
      "Epoch 186/200: 100%|██████████| 17/17 [00:00<00:00, 104.94it/s, loss=0.6982, avg_loss=0.6868]\n",
      "Epoch 187/200: 100%|██████████| 17/17 [00:00<00:00, 96.04it/s, loss=0.6673, avg_loss=0.6853]\n",
      "Epoch 188/200: 100%|██████████| 17/17 [00:00<00:00, 101.80it/s, loss=0.6925, avg_loss=0.6857]\n",
      "Epoch 189/200: 100%|██████████| 17/17 [00:00<00:00, 105.92it/s, loss=0.6941, avg_loss=0.6868]\n",
      "Epoch 190/200: 100%|██████████| 17/17 [00:00<00:00, 43.53it/s, loss=0.6801, avg_loss=0.6849]\n",
      "Epoch 191/200: 100%|██████████| 17/17 [00:00<00:00, 98.84it/s, loss=0.6809, avg_loss=0.6865]\n",
      "Epoch 192/200: 100%|██████████| 17/17 [00:00<00:00, 109.33it/s, loss=0.6821, avg_loss=0.6863]\n",
      "Epoch 193/200: 100%|██████████| 17/17 [00:00<00:00, 104.61it/s, loss=0.6896, avg_loss=0.6864]\n",
      "Epoch 194/200: 100%|██████████| 17/17 [00:00<00:00, 98.27it/s, loss=0.6901, avg_loss=0.6866]\n",
      "Epoch 195/200: 100%|██████████| 17/17 [00:00<00:00, 98.26it/s, loss=0.6910, avg_loss=0.6873]\n",
      "Epoch 196/200: 100%|██████████| 17/17 [00:00<00:00, 94.18it/s, loss=0.6927, avg_loss=0.6876]\n",
      "Epoch 197/200: 100%|██████████| 17/17 [00:00<00:00, 95.78it/s, loss=0.6771, avg_loss=0.6867]\n",
      "Epoch 198/200: 100%|██████████| 17/17 [00:00<00:00, 105.59it/s, loss=0.6889, avg_loss=0.6855]\n",
      "Epoch 199/200: 100%|██████████| 17/17 [00:00<00:00, 99.42it/s, loss=0.6875, avg_loss=0.6866]\n",
      "Epoch 200/200: 100%|██████████| 17/17 [00:00<00:00, 100.89it/s, loss=0.7015, avg_loss=0.6870]\n"
     ]
    },
    {
     "name": "stdout",
     "output_type": "stream",
     "text": [
      "Epoch [200/200]\n",
      "Training Loss: 0.6870\n",
      "Validation Loss: 0.6889\n",
      "Validation Accuracy: 0.5450\n"
     ]
    }
   ],
   "source": [
    "# Define the model\n",
    "model_seizure_channel = Wavenet(input_dim=1, output_dim=2, lr=0.001, hidden_dim=64, kernel_size=64, dropout=0.5)\n",
    "# model_seizure_onset = Wavenet2(input_dim=1, output_dim=2, lr=0.001, hidden_dim=64, kernel_size=64, dropout=0.5)\n",
    "\n",
    "# Train the model\n",
    "train_loss, val_loss, val_accuracy = train_using_optimizer(model_seizure_channel, seizure_channels_dataset_train, seizure_channels_dataset_val, epochs=200, checkpoint_freq=20)\n",
    "# train_ons_loss, val_ons_loss, val_ons_accuracy = train_using_optimizer(model_seizure_onset, seizure_onset_dataset_train, seizure_onset_dataset_val, epochs=200, checkpoint_freq=100)"
   ],
   "metadata": {
    "collapsed": false,
    "ExecuteTime": {
     "end_time": "2024-11-26T22:26:01.963949500Z",
     "start_time": "2024-11-26T22:24:40.002957900Z"
    }
   },
   "id": "28e4375eb57ea2fd",
   "execution_count": 35
  },
  {
   "cell_type": "code",
   "outputs": [
    {
     "data": {
      "text/plain": "<Figure size 640x480 with 2 Axes>",
      "image/png": "[encoded data removed]"
     },
     "metadata": {},
     "output_type": "display_data"
    }
   ],
   "source": [
    "# Plot the training and validation loss\n",
    "import matplotlib.pyplot as plt\n",
    "\n",
    "x_ticks = range(0, 200, 20)\n",
    "\n",
    "plt.plot(train_loss, label='Train')\n",
    "plt.plot(x_ticks, val_loss, label='Validation')\n",
    "# Twin the y-axis for accuracy of validation\n",
    "plt.twinx()\n",
    "plt.plot(x_ticks, val_accuracy, label='Validation Accuracy', color='red')\n",
    "plt.xlabel('Epoch')\n",
    "plt.ylabel('Loss')\n",
    "plt.legend()\n",
    "plt.savefig('result/loss_seizure_channels.png')\n",
    "\n",
    "plt.show()\n",
    "\n"
   ],
   "metadata": {
    "collapsed": false,
    "ExecuteTime": {
     "end_time": "2024-11-26T22:22:40.899448700Z",
     "start_time": "2024-11-26T22:22:40.355448600Z"
    }
   },
   "id": "64dde4dc9514e03f",
   "execution_count": 17
  },
  {
   "cell_type": "code",
   "outputs": [],
   "source": [
    "predicted_labels_total = []\n",
    "\n",
    "time_lengths = [10, 20, 30, 40, 50, 60]\n",
    "\n",
    "for i in range(len(results_propagation_total)):\n",
    "\n",
    "    sample_seizure = results_propagation_total[i]['smoothed_probabilities'][50:100, :]\n",
    "    \n",
    "    # Feed the data to the model and get predictions\n",
    "    sample_seizure = sample_seizure.T\n",
    "    sample_seizure = np.expand_dims(sample_seizure, axis=1)\n",
    "    \n",
    "    # Convert to tensor\n",
    "    sample_seizure = torch.tensor(sample_seizure, dtype=torch.float32)\n",
    "    \n",
    "    # Get the predictions\n",
    "    predictions = model_seizure_channel(sample_seizure)\n",
    "    \n",
    "    # Get the predicted labels, where predicted_labels = 1 when chance is more than 80%\n",
    "    predicted_labels = predictions.detach().to('cpu').numpy()\n",
    "    \n",
    "    predicted_labels = predicted_labels[:, 1] > 0.5\n",
    "    \n",
    "    predicted_labels_total.append(predicted_labels)"
   ],
   "metadata": {
    "collapsed": false,
    "ExecuteTime": {
     "end_time": "2024-11-26T22:23:25.074448400Z",
     "start_time": "2024-11-26T22:23:25.032948800Z"
    }
   },
   "id": "22895f03a8fee345",
   "execution_count": 27
  },
  {
   "cell_type": "code",
   "outputs": [],
   "source": [
    "# Convert the channel from results_propagation to the y_true as 1s and 0s\n",
    "gound_truth_total = []\n",
    "for i in range(len(results_propagation_total)):\n",
    "    y_true = np.zeros(results_propagation_total[i]['smoothed_probabilities'].shape[1])\n",
    "    y_true[results_propagation_total[i]['true_seizure_channels']] = 1\n",
    "    gound_truth_total.append(y_true)\n",
    "    \n",
    "# Convert the gound_truth_total to a single array\n",
    "gound_truth_total = np.concatenate(gound_truth_total)\n",
    "\n",
    "# Convert the predicted_labels_total to a single array\n",
    "predicted_labels_total = np.concatenate(predicted_labels_total)"
   ],
   "metadata": {
    "collapsed": false,
    "ExecuteTime": {
     "end_time": "2024-11-26T22:23:25.529990500Z",
     "start_time": "2024-11-26T22:23:25.519530300Z"
    }
   },
   "id": "f3093baf9d7c09ff",
   "execution_count": 28
  },
  {
   "cell_type": "code",
   "outputs": [
    {
     "data": {
      "text/plain": "<Figure size 640x480 with 2 Axes>",
      "image/png": "[encoded data removed]"
     },
     "metadata": {},
     "output_type": "display_data"
    }
   ],
   "source": [
    "# Plot the confusion matrix\n",
    "import matplotlib.pyplot as plt\n",
    "import seaborn as sns\n",
    "from sklearn.metrics import confusion_matrix\n",
    "\n",
    "conf_matrix = confusion_matrix(gound_truth_total.flatten(), predicted_labels_total.flatten())\n",
    "sns.heatmap(conf_matrix, annot=True, fmt='d')\n",
    "plt.xlabel('Predicted')\n",
    "plt.ylabel('True')\n",
    "plt.savefig('result/confusion_matrix_seizure_channels.png')\n",
    "\n",
    "plt.show()\n"
   ],
   "metadata": {
    "collapsed": false,
    "ExecuteTime": {
     "end_time": "2024-11-26T22:23:26.339948900Z",
     "start_time": "2024-11-26T22:23:26.143949100Z"
    }
   },
   "id": "c711468730b53833",
   "execution_count": 29
  },
  {
   "cell_type": "code",
   "outputs": [],
   "source": [
    "# Calculate the accuracy, precision, recall, and F1 score\n",
    "from sklearn.metrics import accuracy_score, precision_score, recall_score, f1_score\n",
    "\n",
    "accuracy = accuracy_score(gound_truth_total.flatten(), predicted_labels_total.flatten())\n",
    "precision = precision_score(gound_truth_total.flatten(), predicted_labels_total.flatten())\n",
    "recall = recall_score(gound_truth_total.flatten(), predicted_labels_total.flatten())\n",
    "f1 = f1_score(gound_truth_total.flatten(), predicted_labels_total.flatten())\n",
    "\n",
    "print(f'Accuracy: {accuracy}')\n",
    "print(f'Precision: {precision}')\n",
    "print(f'Recall: {recall}')\n",
    "print(f'F1: {f1}')"
   ],
   "metadata": {
    "collapsed": false
   },
   "id": "dd869a20d7728b23",
   "execution_count": null
  },
  {
   "cell_type": "code",
   "outputs": [],
   "source": [],
   "metadata": {
    "collapsed": false,
    "ExecuteTime": {
     "start_time": "2024-11-26T21:57:12.146949500Z"
    }
   },
   "id": "364f74876053c6f0",
   "execution_count": null
  }
 ],
 "metadata": {
  "kernelspec": {
   "display_name": "Python 3",
   "language": "python",
   "name": "python3"
  },
  "language_info": {
   "codemirror_mode": {
    "name": "ipython",
    "version": 2
   },
   "file_extension": ".py",
   "mimetype": "text/x-python",
   "name": "python",
   "nbconvert_exporter": "python",
   "pygments_lexer": "ipython2",
   "version": "2.7.6"
  }
 },
 "nbformat": 4,
 "nbformat_minor": 5
}
