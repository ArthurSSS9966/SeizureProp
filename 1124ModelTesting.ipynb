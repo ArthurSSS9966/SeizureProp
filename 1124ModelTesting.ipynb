{
 "cells": [
  {
   "cell_type": "code",
   "outputs": [
    {
     "data": {
      "text/plain": "0"
     },
     "execution_count": 1,
     "metadata": {},
     "output_type": "execute_result"
    }
   ],
   "source": [
    "import numpy as np\n",
    "import torch\n",
    "# At the start of your notebook\n",
    "from IPython.display import clear_output\n",
    "import gc\n",
    "\n",
    "# After heavy computations\n",
    "clear_output(wait=True)\n",
    "gc.collect()"
   ],
   "metadata": {
    "collapsed": false
   },
   "id": "a90337c9b40e83dc",
   "execution_count": 1
  },
  {
   "cell_type": "code",
   "outputs": [],
   "source": [
    "from steps import setup_and_train_models, analyze_seizure_propagation"
   ],
   "metadata": {
    "collapsed": false,
    "ExecuteTime": {
     "end_time": "2024-11-25T13:14:28.860396Z",
     "start_time": "2024-11-25T13:14:27.190741800Z"
    }
   },
   "id": "8a6fb54970056190",
   "execution_count": 2
  },
  {
   "cell_type": "code",
   "outputs": [],
   "source": [
    "RESULT_FOLDER = \"result\"\n",
    "MODEL_FOLDER = \"model\"\n",
    "model_names = ['Wavenet2']  # 'CNN1D', 'Wavenet', 'LSTM'"
   ],
   "metadata": {
    "collapsed": false,
    "ExecuteTime": {
     "end_time": "2024-11-25T13:14:28.861813800Z",
     "start_time": "2024-11-25T13:14:28.850098400Z"
    }
   },
   "id": "1f435e4429efe0ce",
   "execution_count": 3
  },
  {
   "cell_type": "code",
   "outputs": [],
   "source": [
    "# Do batch analysis to find the best hyperparameters\n",
    "seizures = [1, 2, 3, 5, 7]\n",
    "thresholds = [0.8]\n",
    "smooth_windows = [80]"
   ],
   "metadata": {
    "collapsed": false,
    "ExecuteTime": {
     "end_time": "2024-11-25T13:14:28.921344200Z",
     "start_time": "2024-11-25T13:14:28.864866800Z"
    }
   },
   "id": "a1e4cc19cfa56c01",
   "execution_count": 4
  },
  {
   "cell_type": "code",
   "outputs": [
    {
     "name": "stdout",
     "output_type": "stream",
     "text": [
      "Warning: No marked channels for seizure 10 of patient 62. Using all channels.\n",
      "Warning: No marked channels for seizure 11 of patient 62. Using all channels.\n",
      "Warning: No marked channels for seizure 12 of patient 62. Using all channels.\n",
      "Warning: No marked channels for seizure 13 of patient 62. Using all channels.\n",
      "Warning: No marked channels for seizure 14 of patient 62. Using all channels.\n",
      "Warning: No marked channels for seizure 15 of patient 62. Using all channels.\n",
      "Warning: No marked channels for seizure 16 of patient 62. Using all channels.\n",
      "Warning: No marked channels for seizure 17 of patient 62. Using all channels.\n",
      "Warning: No marked channels for seizure 18 of patient 62. Using all channels.\n",
      "Warning: No marked channels for seizure 19 of patient 62. Using all channels.\n",
      "Warning: No marked channels for seizure 1 of patient 62. Using all channels.\n",
      "Warning: No marked channels for seizure 20 of patient 62. Using all channels.\n",
      "Warning: No marked channels for seizure 21 of patient 62. Using all channels.\n",
      "Warning: No marked channels for seizure 22 of patient 62. Using all channels.\n",
      "Warning: No marked channels for seizure 23 of patient 62. Using all channels.\n",
      "Warning: No marked channels for seizure 2 of patient 62. Using all channels.\n",
      "Warning: No marked channels for seizure 3 of patient 62. Using all channels.\n",
      "Warning: No marked channels for seizure 4 of patient 62. Using all channels.\n",
      "Warning: No marked channels for seizure 5 of patient 62. Using all channels.\n",
      "Warning: No marked channels for seizure 6 of patient 62. Using all channels.\n",
      "Warning: No marked channels for seizure 7 of patient 62. Using all channels.\n",
      "Warning: No marked channels for seizure 8 of patient 62. Using all channels.\n",
      "Warning: No marked channels for seizure 9 of patient 62. Using all channels.\n",
      "Warning: No marked channels for seizure 4 of patient 66. Using all channels.\n",
      "Warning: No marked channels for seizure 5 of patient 66. Using all channels.\n",
      "Warning: No marked channels for seizure 6 of patient 66. Using all channels.\n",
      "Warning: No marked channels for seizure 7 of patient 66. Using all channels.\n",
      "Warning: Channel mismatch in seizure SZ2. Adjusting dimensions...\n",
      "Warning: Channel mismatch in seizure SZ3. Adjusting dimensions...\n",
      "Warning: Channel mismatch in seizure SZ4. Adjusting dimensions...\n",
      "Removed 0 zero-padded samples out of 143136 total samples\n",
      "Using 143136 samples from each class for balanced dataset\n",
      "Final dataset shapes - Training: (229017, 1, 128), Validation: (57255, 1, 128)\n",
      "Removed 0 zero-padded samples out of 21056 total samples\n",
      "Using 21056 samples from each class for balanced dataset\n",
      "Final dataset shapes - Training: (33689, 1, 128), Validation: (8423, 1, 128)\n",
      "Removed 29570 zero-padded samples out of 225000 total samples\n",
      "Using 98000 samples from each class for balanced dataset\n",
      "Final dataset shapes - Training: (156800, 1, 128), Validation: (39200, 1, 128)\n",
      "\n",
      "Training Wavenet2...\n"
     ]
    },
    {
     "name": "stderr",
     "output_type": "stream",
     "text": [
      "Epoch 1/60: 100%|██████████| 103/103 [00:10<00:00,  9.49it/s, loss=0.6619, avg_loss=0.6757]\n",
      "Epoch 2/60: 100%|██████████| 103/103 [00:10<00:00, 10.22it/s, loss=0.6146, avg_loss=0.6330]\n",
      "Epoch 3/60: 100%|██████████| 103/103 [00:10<00:00,  9.90it/s, loss=0.5741, avg_loss=0.5885]\n",
      "Epoch 4/60: 100%|██████████| 103/103 [00:10<00:00,  9.91it/s, loss=0.5631, avg_loss=0.5770]\n",
      "Epoch 5/60: 100%|██████████| 103/103 [00:09<00:00, 10.34it/s, loss=0.5638, avg_loss=0.5711]\n"
     ]
    },
    {
     "name": "stdout",
     "output_type": "stream",
     "text": [
      "Epoch [5/60]\n",
      "Training Loss: 0.5711\n",
      "Validation Loss: 0.5640\n",
      "Validation Accuracy: 0.7228\n"
     ]
    },
    {
     "name": "stderr",
     "output_type": "stream",
     "text": [
      "Epoch 6/60: 100%|██████████| 103/103 [00:10<00:00, 10.05it/s, loss=0.5567, avg_loss=0.5648]\n",
      "Epoch 7/60: 100%|██████████| 103/103 [00:09<00:00, 10.44it/s, loss=0.5423, avg_loss=0.5592]\n",
      "Epoch 8/60: 100%|██████████| 103/103 [00:10<00:00,  9.86it/s, loss=0.5523, avg_loss=0.5560]\n",
      "Epoch 9/60: 100%|██████████| 103/103 [00:10<00:00, 10.03it/s, loss=0.5529, avg_loss=0.5517]\n",
      "Epoch 10/60: 100%|██████████| 103/103 [00:10<00:00, 10.14it/s, loss=0.5580, avg_loss=0.5485]\n"
     ]
    },
    {
     "name": "stdout",
     "output_type": "stream",
     "text": [
      "Epoch [10/60]\n",
      "Training Loss: 0.5485\n",
      "Validation Loss: 0.5414\n",
      "Validation Accuracy: 0.7513\n"
     ]
    },
    {
     "name": "stderr",
     "output_type": "stream",
     "text": [
      "Epoch 11/60: 100%|██████████| 103/103 [00:10<00:00,  9.96it/s, loss=0.5437, avg_loss=0.5446]\n",
      "Epoch 12/60: 100%|██████████| 103/103 [00:10<00:00, 10.26it/s, loss=0.5471, avg_loss=0.5415]\n",
      "Epoch 13/60: 100%|██████████| 103/103 [00:09<00:00, 10.38it/s, loss=0.5361, avg_loss=0.5390]\n",
      "Epoch 14/60: 100%|██████████| 103/103 [00:10<00:00,  9.98it/s, loss=0.5343, avg_loss=0.5368]\n",
      "Epoch 15/60: 100%|██████████| 103/103 [00:10<00:00, 10.24it/s, loss=0.5333, avg_loss=0.5342]\n"
     ]
    },
    {
     "name": "stdout",
     "output_type": "stream",
     "text": [
      "Epoch [15/60]\n",
      "Training Loss: 0.5342\n",
      "Validation Loss: 0.5339\n",
      "Validation Accuracy: 0.7589\n"
     ]
    },
    {
     "name": "stderr",
     "output_type": "stream",
     "text": [
      "Epoch 16/60: 100%|██████████| 103/103 [00:10<00:00,  9.65it/s, loss=0.5365, avg_loss=0.5327]\n",
      "Epoch 17/60: 100%|██████████| 103/103 [00:09<00:00, 10.45it/s, loss=0.5298, avg_loss=0.5319]\n",
      "Epoch 18/60: 100%|██████████| 103/103 [00:10<00:00, 10.20it/s, loss=0.5362, avg_loss=0.5279]\n",
      "Epoch 19/60: 100%|██████████| 103/103 [00:10<00:00, 10.10it/s, loss=0.5238, avg_loss=0.5268]\n",
      "Epoch 20/60: 100%|██████████| 103/103 [00:09<00:00, 10.35it/s, loss=0.5237, avg_loss=0.5260]\n"
     ]
    },
    {
     "name": "stdout",
     "output_type": "stream",
     "text": [
      "Epoch [20/60]\n",
      "Training Loss: 0.5260\n",
      "Validation Loss: 0.5222\n",
      "Validation Accuracy: 0.7745\n"
     ]
    },
    {
     "name": "stderr",
     "output_type": "stream",
     "text": [
      "Epoch 21/60: 100%|██████████| 103/103 [00:10<00:00, 10.04it/s, loss=0.5209, avg_loss=0.5236]\n",
      "Epoch 22/60: 100%|██████████| 103/103 [00:09<00:00, 10.34it/s, loss=0.5113, avg_loss=0.5223]\n",
      "Epoch 23/60: 100%|██████████| 103/103 [00:09<00:00, 10.37it/s, loss=0.5024, avg_loss=0.5217]\n",
      "Epoch 24/60: 100%|██████████| 103/103 [00:10<00:00, 10.06it/s, loss=0.5270, avg_loss=0.5193]\n",
      "Epoch 25/60: 100%|██████████| 103/103 [00:10<00:00, 10.10it/s, loss=0.5239, avg_loss=0.5186]\n"
     ]
    },
    {
     "name": "stdout",
     "output_type": "stream",
     "text": [
      "Epoch [25/60]\n",
      "Training Loss: 0.5186\n",
      "Validation Loss: 0.5164\n",
      "Validation Accuracy: 0.7806\n"
     ]
    },
    {
     "name": "stderr",
     "output_type": "stream",
     "text": [
      "Epoch 26/60: 100%|██████████| 103/103 [00:10<00:00,  9.97it/s, loss=0.5049, avg_loss=0.5162]\n",
      "Epoch 27/60: 100%|██████████| 103/103 [00:10<00:00, 10.28it/s, loss=0.5149, avg_loss=0.5146]\n",
      "Epoch 28/60: 100%|██████████| 103/103 [00:09<00:00, 10.32it/s, loss=0.5112, avg_loss=0.5144]\n",
      "Epoch 29/60: 100%|██████████| 103/103 [00:10<00:00,  9.99it/s, loss=0.5154, avg_loss=0.5118]\n",
      "Epoch 30/60: 100%|██████████| 103/103 [00:10<00:00, 10.07it/s, loss=0.5177, avg_loss=0.5120]\n"
     ]
    },
    {
     "name": "stdout",
     "output_type": "stream",
     "text": [
      "Epoch [30/60]\n",
      "Training Loss: 0.5120\n",
      "Validation Loss: 0.5128\n",
      "Validation Accuracy: 0.7856\n"
     ]
    },
    {
     "name": "stderr",
     "output_type": "stream",
     "text": [
      "Epoch 31/60: 100%|██████████| 103/103 [00:10<00:00,  9.90it/s, loss=0.4968, avg_loss=0.5095]\n",
      "Epoch 32/60: 100%|██████████| 103/103 [00:09<00:00, 10.34it/s, loss=0.5053, avg_loss=0.5083]\n",
      "Epoch 33/60: 100%|██████████| 103/103 [00:10<00:00, 10.25it/s, loss=0.5117, avg_loss=0.5074]\n",
      "Epoch 34/60: 100%|██████████| 103/103 [00:10<00:00, 10.17it/s, loss=0.5006, avg_loss=0.5059]\n",
      "Epoch 35/60: 100%|██████████| 103/103 [00:09<00:00, 10.41it/s, loss=0.5118, avg_loss=0.5063]\n"
     ]
    },
    {
     "name": "stdout",
     "output_type": "stream",
     "text": [
      "Epoch [35/60]\n",
      "Training Loss: 0.5063\n",
      "Validation Loss: 0.5091\n",
      "Validation Accuracy: 0.7888\n"
     ]
    },
    {
     "name": "stderr",
     "output_type": "stream",
     "text": [
      "Epoch 36/60: 100%|██████████| 103/103 [00:10<00:00,  9.83it/s, loss=0.5007, avg_loss=0.5039]\n",
      "Epoch 37/60: 100%|██████████| 103/103 [00:10<00:00, 10.30it/s, loss=0.4998, avg_loss=0.5035]\n",
      "Epoch 38/60: 100%|██████████| 103/103 [00:09<00:00, 10.33it/s, loss=0.5048, avg_loss=0.5018]\n",
      "Epoch 39/60: 100%|██████████| 103/103 [00:10<00:00,  9.88it/s, loss=0.5005, avg_loss=0.5002]\n",
      "Epoch 40/60: 100%|██████████| 103/103 [00:10<00:00,  9.98it/s, loss=0.4943, avg_loss=0.4990]\n"
     ]
    },
    {
     "name": "stdout",
     "output_type": "stream",
     "text": [
      "Epoch [40/60]\n",
      "Training Loss: 0.4990\n",
      "Validation Loss: 0.5080\n",
      "Validation Accuracy: 0.7908\n"
     ]
    },
    {
     "name": "stderr",
     "output_type": "stream",
     "text": [
      "Epoch 41/60: 100%|██████████| 103/103 [00:10<00:00,  9.96it/s, loss=0.4980, avg_loss=0.4976]\n",
      "Epoch 42/60: 100%|██████████| 103/103 [00:10<00:00, 10.08it/s, loss=0.5062, avg_loss=0.4976]\n",
      "Epoch 43/60: 100%|██████████| 103/103 [00:10<00:00, 10.15it/s, loss=0.4945, avg_loss=0.4951]\n",
      "Epoch 44/60: 100%|██████████| 103/103 [00:11<00:00,  8.73it/s, loss=0.4953, avg_loss=0.4952]\n",
      "Epoch 45/60: 100%|██████████| 103/103 [00:10<00:00,  9.84it/s, loss=0.4792, avg_loss=0.4938]\n"
     ]
    },
    {
     "name": "stdout",
     "output_type": "stream",
     "text": [
      "Epoch [45/60]\n",
      "Training Loss: 0.4938\n",
      "Validation Loss: 0.5019\n",
      "Validation Accuracy: 0.7994\n"
     ]
    },
    {
     "name": "stderr",
     "output_type": "stream",
     "text": [
      "Epoch 46/60: 100%|██████████| 103/103 [00:10<00:00,  9.70it/s, loss=0.5075, avg_loss=0.4926]\n",
      "Epoch 47/60: 100%|██████████| 103/103 [00:10<00:00, 10.07it/s, loss=0.4896, avg_loss=0.4923]\n",
      "Epoch 48/60: 100%|██████████| 103/103 [00:10<00:00, 10.08it/s, loss=0.4798, avg_loss=0.4900]\n",
      "Epoch 49/60: 100%|██████████| 103/103 [00:10<00:00,  9.83it/s, loss=0.4865, avg_loss=0.4893]\n",
      "Epoch 50/60: 100%|██████████| 103/103 [00:10<00:00, 10.14it/s, loss=0.4874, avg_loss=0.4885]\n"
     ]
    },
    {
     "name": "stdout",
     "output_type": "stream",
     "text": [
      "Epoch [50/60]\n",
      "Training Loss: 0.4885\n",
      "Validation Loss: 0.4979\n",
      "Validation Accuracy: 0.8032\n"
     ]
    },
    {
     "name": "stderr",
     "output_type": "stream",
     "text": [
      "Epoch 51/60: 100%|██████████| 103/103 [00:10<00:00, 10.09it/s, loss=0.4902, avg_loss=0.4875]\n",
      "Epoch 52/60: 100%|██████████| 103/103 [00:09<00:00, 10.36it/s, loss=0.4826, avg_loss=0.4867]\n",
      "Epoch 53/60: 100%|██████████| 103/103 [00:10<00:00, 10.11it/s, loss=0.4724, avg_loss=0.4845]\n",
      "Epoch 54/60: 100%|██████████| 103/103 [00:10<00:00, 10.21it/s, loss=0.4888, avg_loss=0.4839]\n",
      "Epoch 55/60: 100%|██████████| 103/103 [00:10<00:00, 10.20it/s, loss=0.4885, avg_loss=0.4826]\n"
     ]
    },
    {
     "name": "stdout",
     "output_type": "stream",
     "text": [
      "Epoch [55/60]\n",
      "Training Loss: 0.4826\n",
      "Validation Loss: 0.4934\n",
      "Validation Accuracy: 0.8088\n"
     ]
    },
    {
     "name": "stderr",
     "output_type": "stream",
     "text": [
      "Epoch 56/60: 100%|██████████| 103/103 [00:10<00:00, 10.03it/s, loss=0.4832, avg_loss=0.4823]\n",
      "Epoch 57/60: 100%|██████████| 103/103 [00:10<00:00, 10.28it/s, loss=0.4758, avg_loss=0.4811]\n",
      "Epoch 58/60: 100%|██████████| 103/103 [00:10<00:00, 10.11it/s, loss=0.4874, avg_loss=0.4809]\n",
      "Epoch 59/60: 100%|██████████| 103/103 [00:10<00:00, 10.18it/s, loss=0.4780, avg_loss=0.4812]\n",
      "Epoch 60/60: 100%|██████████| 103/103 [00:10<00:00, 10.19it/s, loss=0.4824, avg_loss=0.4780]\n"
     ]
    },
    {
     "name": "stdout",
     "output_type": "stream",
     "text": [
      "Epoch [60/60]\n",
      "Training Loss: 0.4780\n",
      "Validation Loss: 0.4916\n",
      "Validation Accuracy: 0.8106\n"
     ]
    }
   ],
   "source": [
    "results, models = setup_and_train_models(\n",
    "    data_folder=\"data\",\n",
    "    model_folder=\"checkpoints\",\n",
    "    model_names=model_names,  # Only use CNN1D and Wavenet\n",
    "    train=True,\n",
    "    params={'epochs': 60, 'batch_size': 4096}\n",
    ")"
   ],
   "metadata": {
    "collapsed": false,
    "ExecuteTime": {
     "end_time": "2024-11-25T13:25:15.051208100Z",
     "start_time": "2024-11-25T13:14:28.882263800Z"
    }
   },
   "id": "40278f619e39dba2",
   "execution_count": 5
  },
  {
   "cell_type": "code",
   "outputs": [
    {
     "name": "stdout",
     "output_type": "stream",
     "text": [
      "Results saved to: result\\P65\\Seizure1\\analysis_results\n",
      "Results saved to: result\\P65\\Seizure2\\analysis_results\n",
      "Results saved to: result\\P65\\Seizure3\\analysis_results\n",
      "Results saved to: result\\P65\\Seizure5\\analysis_results\n",
      "Results saved to: result\\P65\\Seizure7\\analysis_results\n",
      "Results saved to: result\\P66\\Seizure1\\analysis_results\n",
      "Results saved to: result\\P66\\Seizure2\\analysis_results\n",
      "Results saved to: result\\P66\\Seizure3\\analysis_results\n"
     ]
    }
   ],
   "source": [
    "results_propagation_total = []\n",
    "model_name = 'Wavenet2'\n",
    "model = models[model_name]\n",
    "threshold = 0.8\n",
    "smooth_window = 80\n",
    "for PAT_NO in [65, 66]:\n",
    "    for seizure_no in seizures:\n",
    "        if PAT_NO == 66 and seizure_no > 3:\n",
    "            continue\n",
    "        params = {\n",
    "            'threshold': threshold,\n",
    "            'smooth_window': smooth_window,\n",
    "            'n_seconds': 60,\n",
    "            'seizure_start': 10,\n",
    "        }\n",
    "        results_propagation = analyze_seizure_propagation(\n",
    "            patient_no=PAT_NO,\n",
    "            seizure_no=seizure_no,\n",
    "            model=model,\n",
    "            data_folder='data',\n",
    "            params=params,\n",
    "            save_results_ind=True\n",
    "        )\n",
    "        results_propagation_total.append(results_propagation)"
   ],
   "metadata": {
    "collapsed": false,
    "ExecuteTime": {
     "end_time": "2024-11-25T13:26:11.676075900Z",
     "start_time": "2024-11-25T13:25:15.059207400Z"
    }
   },
   "id": "14ccef415a934e81",
   "execution_count": 6
  },
  {
   "cell_type": "code",
   "outputs": [],
   "source": [
    "import torch\n",
    "from torch.utils.data import DataLoader\n",
    "from datasetConstruct import CustomDataset, load_seizure_across_patients, create_dataset, combine_loaders\n",
    "from sklearn.model_selection import StratifiedShuffleSplit\n"
   ],
   "metadata": {
    "collapsed": false,
    "ExecuteTime": {
     "end_time": "2024-11-25T13:26:11.690075200Z",
     "start_time": "2024-11-25T13:26:11.671077100Z"
    }
   },
   "id": "845bf553ad54d8a",
   "execution_count": 7
  },
  {
   "cell_type": "code",
   "outputs": [],
   "source": [
    "def prepare_data(data_folder: str, batch_size: int):\n",
    "    \"\"\"Prepare datasets and dataloaders\"\"\"\n",
    "    seizure_across_patients = load_seizure_across_patients(data_folder)\n",
    "    ml_datasets = [create_dataset(seizure, batch_size=batch_size)\n",
    "                   for seizure in seizure_across_patients]\n",
    "    train_loader, val_loader = combine_loaders(ml_datasets, batch_size=batch_size)\n",
    "    channels, time_steps = train_loader.dataset[0][0].shape\n",
    "    return train_loader, val_loader, channels, time_steps"
   ],
   "metadata": {
    "collapsed": false,
    "ExecuteTime": {
     "end_time": "2024-11-25T13:26:11.755078400Z",
     "start_time": "2024-11-25T13:26:11.692075800Z"
    }
   },
   "id": "cd7d8ea14f23a957",
   "execution_count": 8
  },
  {
   "cell_type": "code",
   "outputs": [],
   "source": [
    "def construct_channel_recognition_dataset(results_propagation_total, seizure_onset_window_size=60, batch_size=64, split=0.8):\n",
    "    def construct_single_dataset(results_propagation, window_size):\n",
    "        # Add print statements to debug sizes\n",
    "        x = results_propagation['smoothed_probabilities'][50:window_size*5+50, :]\n",
    "        \n",
    "        y = np.zeros(x.shape[1])\n",
    "        y[results_propagation['true_seizure_channels']] = 1\n",
    "        \n",
    "        return x, y, x, y\n",
    "    \n",
    "    x_total = []\n",
    "    y_total = []\n",
    "    x_onset_total = []\n",
    "    y_onset_total = []\n",
    "    \n",
    "    for i, results_propagation in enumerate(results_propagation_total):\n",
    "        x, y, x_onset, y_onset = construct_single_dataset(results_propagation, seizure_onset_window_size)\n",
    "        x_total.append(x)\n",
    "        y_total.append(y)\n",
    "        x_onset_total.append(x_onset)\n",
    "        y_onset_total.append(y_onset)\n",
    "    \n",
    "    # Concatenate and transpose\n",
    "    x_total = np.concatenate(x_total, axis=1).T\n",
    "    \n",
    "    # Add channel dimension\n",
    "    x_total = np.expand_dims(x_total, axis=1)\n",
    "    \n",
    "    # Convert to tensor and split\n",
    "    y_total = np.concatenate(y_total)\n",
    "    \n",
    "    # Get balanced dataset\n",
    "    positive_indices = np.where(y_total == 1)[0]\n",
    "    negative_indices = np.where(y_total == 0)[0]\n",
    "    \n",
    "    # Get the same number of positive and negative samples\n",
    "    n_samples = min(len(positive_indices), len(negative_indices))\n",
    "    \n",
    "    positive_indices = np.random.choice(positive_indices, n_samples, replace=False)\n",
    "    negative_indices = np.random.choice(negative_indices, n_samples, replace=False)\n",
    "    \n",
    "    indices = np.concatenate([positive_indices, negative_indices])\n",
    "    indices = np.random.permutation(indices)\n",
    "    \n",
    "    x_total = x_total[indices]\n",
    "    y_total = y_total[indices]\n",
    "    \n",
    "    sss = StratifiedShuffleSplit(n_splits=1, test_size=1 - split, random_state=0)\n",
    "    \n",
    "    for train_index, val_index in sss.split(x_total, y_total):\n",
    "        x_train, x_val = x_total[train_index], x_total[val_index]\n",
    "        y_train, y_val = y_total[train_index], y_total[val_index]\n",
    "    \n",
    "    # Create datasets\n",
    "    seizure_channels_dataset_train = CustomDataset(x_train, y_train)\n",
    "    seizure_channels_dataset_val = CustomDataset(x_val, y_val)\n",
    "    \n",
    "    # Create dataloaders\n",
    "    seizure_channels_dataset_train = DataLoader(seizure_channels_dataset_train, batch_size=batch_size, shuffle=True)\n",
    "    seizure_channels_dataset_val = DataLoader(seizure_channels_dataset_val, batch_size=1, shuffle=True)\n",
    "    \n",
    "    # Construct onset datasets\n",
    "    x_onset_total = np.concatenate(x_onset_total, axis=1).T\n",
    "    x_onset_total = np.expand_dims(x_onset_total, axis=1)\n",
    "    y_onset_total = np.concatenate(y_onset_total)\n",
    "    \n",
    "    # Get balanced dataset\n",
    "    positive_indices = np.where(y_onset_total == 1)[0]\n",
    "    negative_indices = np.where(y_onset_total == 0)[0]\n",
    "    \n",
    "    # Get the same number of positive and negative samples\n",
    "    n_samples = min(len(positive_indices), len(negative_indices))\n",
    "    \n",
    "    positive_indices = np.random.choice(positive_indices, n_samples, replace=False)\n",
    "    negative_indices = np.random.choice(negative_indices, n_samples, replace=False)\n",
    "    \n",
    "    indices = np.concatenate([positive_indices, negative_indices])\n",
    "    indices = np.random.permutation(indices)\n",
    "    \n",
    "    x_onset_total = x_onset_total[indices]\n",
    "    y_onset_total = y_onset_total[indices]\n",
    "    \n",
    "    sss = StratifiedShuffleSplit(n_splits=1, test_size=1 - split, random_state=0)\n",
    "    \n",
    "    for train_index, val_index in sss.split(x_onset_total, y_onset_total):\n",
    "        x_onset_train, x_onset_val = x_onset_total[train_index], x_onset_total[val_index]\n",
    "        y_onset_train, y_onset_val = y_onset_total[train_index], y_onset_total[val_index]\n",
    "    \n",
    "    seizure_onset_dataset_train = CustomDataset(x_onset_train, y_onset_train)\n",
    "    seizure_onset_dataset_val = CustomDataset(x_onset_val, y_onset_val)\n",
    "    \n",
    "    seizure_onset_dataset_train = DataLoader(seizure_onset_dataset_train, batch_size=batch_size, shuffle=True)\n",
    "    seizure_onset_dataset_val = DataLoader(seizure_onset_dataset_val, batch_size=1, shuffle=True)\n",
    "    \n",
    "    return seizure_channels_dataset_train, seizure_channels_dataset_val, seizure_onset_dataset_train, seizure_onset_dataset_val"
   ],
   "metadata": {
    "collapsed": false,
    "ExecuteTime": {
     "end_time": "2024-11-25T13:26:11.781078300Z",
     "start_time": "2024-11-25T13:26:11.711075500Z"
    }
   },
   "id": "9a3a704d61f0b4c4",
   "execution_count": 9
  },
  {
   "cell_type": "code",
   "outputs": [],
   "source": [
    "seizure_channels_dataset_train, seizure_channels_dataset_val, seizure_onset_dataset_train, seizure_onset_dataset_val = construct_channel_recognition_dataset(results_propagation_total, 40, batch_size=256)"
   ],
   "metadata": {
    "collapsed": false,
    "ExecuteTime": {
     "end_time": "2024-11-25T13:26:11.783076400Z",
     "start_time": "2024-11-25T13:26:11.730076400Z"
    }
   },
   "id": "26997a5ef8715da0",
   "execution_count": 10
  },
  {
   "cell_type": "code",
   "outputs": [],
   "source": [
    "from models import Wavenet2, train_using_optimizer"
   ],
   "metadata": {
    "collapsed": false,
    "ExecuteTime": {
     "end_time": "2024-11-25T13:26:11.783076400Z",
     "start_time": "2024-11-25T13:26:11.763075Z"
    }
   },
   "id": "565898afbebb209e",
   "execution_count": 11
  },
  {
   "cell_type": "code",
   "outputs": [
    {
     "name": "stderr",
     "output_type": "stream",
     "text": [
      "Epoch 1/200: 100%|██████████| 2/2 [00:00<00:00, 16.67it/s, loss=0.6944, avg_loss=0.6936]\n",
      "Epoch 2/200: 100%|██████████| 2/2 [00:00<00:00, 76.93it/s, loss=0.6934, avg_loss=0.6935]\n",
      "Epoch 3/200: 100%|██████████| 2/2 [00:00<00:00, 86.96it/s, loss=0.6930, avg_loss=0.6931]\n",
      "Epoch 4/200: 100%|██████████| 2/2 [00:00<00:00, 86.95it/s, loss=0.6932, avg_loss=0.6933]\n",
      "Epoch 5/200: 100%|██████████| 2/2 [00:00<00:00, 43.48it/s, loss=0.6932, avg_loss=0.6932]\n",
      "Epoch 6/200: 100%|██████████| 2/2 [00:00<00:00, 45.45it/s, loss=0.6931, avg_loss=0.6931]\n",
      "Epoch 7/200: 100%|██████████| 2/2 [00:00<00:00, 45.45it/s, loss=0.6932, avg_loss=0.6932]\n",
      "Epoch 8/200: 100%|██████████| 2/2 [00:00<00:00, 44.44it/s, loss=0.6933, avg_loss=0.6932]\n",
      "Epoch 9/200: 100%|██████████| 2/2 [00:00<00:00, 46.51it/s, loss=0.6931, avg_loss=0.6931]\n",
      "Epoch 10/200: 100%|██████████| 2/2 [00:00<00:00, 55.56it/s, loss=0.6933, avg_loss=0.6932]\n"
     ]
    },
    {
     "name": "stdout",
     "output_type": "stream",
     "text": [
      "Epoch [10/200]\n",
      "Training Loss: 0.6932\n",
      "Validation Loss: 0.6931\n",
      "Validation Accuracy: 0.4958\n"
     ]
    },
    {
     "name": "stderr",
     "output_type": "stream",
     "text": [
      "Epoch 11/200: 100%|██████████| 2/2 [00:00<00:00, 55.56it/s, loss=0.6930, avg_loss=0.6931]\n",
      "Epoch 12/200: 100%|██████████| 2/2 [00:00<00:00, 66.67it/s, loss=0.6929, avg_loss=0.6930]\n",
      "Epoch 13/200: 100%|██████████| 2/2 [00:00<00:00, 48.84it/s, loss=0.6933, avg_loss=0.6932]\n",
      "Epoch 14/200: 100%|██████████| 2/2 [00:00<00:00, 76.93it/s, loss=0.6932, avg_loss=0.6932]\n",
      "Epoch 15/200: 100%|██████████| 2/2 [00:00<00:00, 74.07it/s, loss=0.6929, avg_loss=0.6930]\n",
      "Epoch 16/200: 100%|██████████| 2/2 [00:00<00:00, 48.78it/s, loss=0.6931, avg_loss=0.6931]\n",
      "Epoch 17/200: 100%|██████████| 2/2 [00:00<00:00, 51.28it/s, loss=0.6932, avg_loss=0.6930]\n",
      "Epoch 18/200: 100%|██████████| 2/2 [00:00<00:00, 74.07it/s, loss=0.6931, avg_loss=0.6930]\n",
      "Epoch 19/200: 100%|██████████| 2/2 [00:00<00:00, 52.63it/s, loss=0.6931, avg_loss=0.6931]\n",
      "Epoch 20/200: 100%|██████████| 2/2 [00:00<00:00, 64.52it/s, loss=0.6941, avg_loss=0.6933]\n"
     ]
    },
    {
     "name": "stdout",
     "output_type": "stream",
     "text": [
      "Epoch [20/200]\n",
      "Training Loss: 0.6933\n",
      "Validation Loss: 0.6927\n",
      "Validation Accuracy: 0.5630\n"
     ]
    },
    {
     "name": "stderr",
     "output_type": "stream",
     "text": [
      "Epoch 21/200: 100%|██████████| 2/2 [00:00<00:00, 68.96it/s, loss=0.6927, avg_loss=0.6933]\n",
      "Epoch 22/200: 100%|██████████| 2/2 [00:00<00:00, 71.43it/s, loss=0.6927, avg_loss=0.6925]\n",
      "Epoch 23/200: 100%|██████████| 2/2 [00:00<00:00, 80.00it/s, loss=0.6927, avg_loss=0.6930]\n",
      "Epoch 24/200: 100%|██████████| 2/2 [00:00<00:00, 71.43it/s, loss=0.6921, avg_loss=0.6929]\n",
      "Epoch 25/200: 100%|██████████| 2/2 [00:00<00:00, 66.67it/s, loss=0.6925, avg_loss=0.6928]\n",
      "Epoch 26/200: 100%|██████████| 2/2 [00:00<00:00, 64.51it/s, loss=0.6925, avg_loss=0.6928]\n",
      "Epoch 27/200: 100%|██████████| 2/2 [00:00<00:00, 58.82it/s, loss=0.6930, avg_loss=0.6929]\n",
      "Epoch 28/200: 100%|██████████| 2/2 [00:00<00:00, 71.43it/s, loss=0.6926, avg_loss=0.6935]\n",
      "Epoch 29/200: 100%|██████████| 2/2 [00:00<00:00, 68.96it/s, loss=0.6941, avg_loss=0.6930]\n",
      "Epoch 30/200: 100%|██████████| 2/2 [00:00<00:00, 67.07it/s, loss=0.6928, avg_loss=0.6928]\n"
     ]
    },
    {
     "name": "stdout",
     "output_type": "stream",
     "text": [
      "Epoch [30/200]\n",
      "Training Loss: 0.6928\n",
      "Validation Loss: 0.6920\n",
      "Validation Accuracy: 0.5630\n"
     ]
    },
    {
     "name": "stderr",
     "output_type": "stream",
     "text": [
      "Epoch 31/200: 100%|██████████| 2/2 [00:00<00:00, 74.07it/s, loss=0.6941, avg_loss=0.6926]\n",
      "Epoch 32/200: 100%|██████████| 2/2 [00:00<00:00, 60.61it/s, loss=0.6925, avg_loss=0.6917]\n",
      "Epoch 33/200: 100%|██████████| 2/2 [00:00<00:00, 58.82it/s, loss=0.6895, avg_loss=0.6912]\n",
      "Epoch 34/200: 100%|██████████| 2/2 [00:00<00:00, 76.92it/s, loss=0.6936, avg_loss=0.6931]\n",
      "Epoch 35/200: 100%|██████████| 2/2 [00:00<00:00, 52.63it/s, loss=0.6909, avg_loss=0.6928]\n",
      "Epoch 36/200: 100%|██████████| 2/2 [00:00<00:00, 71.43it/s, loss=0.6917, avg_loss=0.6926]\n",
      "Epoch 37/200: 100%|██████████| 2/2 [00:00<00:00, 60.61it/s, loss=0.6924, avg_loss=0.6934]\n",
      "Epoch 38/200: 100%|██████████| 2/2 [00:00<00:00, 71.43it/s, loss=0.6926, avg_loss=0.6920]\n",
      "Epoch 39/200: 100%|██████████| 2/2 [00:00<00:00, 62.50it/s, loss=0.6901, avg_loss=0.6920]\n",
      "Epoch 40/200: 100%|██████████| 2/2 [00:00<00:00, 68.96it/s, loss=0.6958, avg_loss=0.6943]\n"
     ]
    },
    {
     "name": "stdout",
     "output_type": "stream",
     "text": [
      "Epoch [40/200]\n",
      "Training Loss: 0.6943\n",
      "Validation Loss: 0.6915\n",
      "Validation Accuracy: 0.6134\n"
     ]
    },
    {
     "name": "stderr",
     "output_type": "stream",
     "text": [
      "Epoch 41/200: 100%|██████████| 2/2 [00:00<00:00, 80.00it/s, loss=0.6916, avg_loss=0.6918]\n",
      "Epoch 42/200: 100%|██████████| 2/2 [00:00<00:00, 71.43it/s, loss=0.6926, avg_loss=0.6932]\n",
      "Epoch 43/200: 100%|██████████| 2/2 [00:00<00:00, 76.92it/s, loss=0.6925, avg_loss=0.6927]\n",
      "Epoch 44/200: 100%|██████████| 2/2 [00:00<00:00, 83.33it/s, loss=0.6924, avg_loss=0.6924]\n",
      "Epoch 45/200: 100%|██████████| 2/2 [00:00<00:00, 60.60it/s, loss=0.6903, avg_loss=0.6910]\n",
      "Epoch 46/200: 100%|██████████| 2/2 [00:00<00:00, 54.05it/s, loss=0.6928, avg_loss=0.6912]\n",
      "Epoch 47/200: 100%|██████████| 2/2 [00:00<00:00, 50.00it/s, loss=0.6909, avg_loss=0.6925]\n",
      "Epoch 48/200: 100%|██████████| 2/2 [00:00<00:00, 48.78it/s, loss=0.6931, avg_loss=0.6929]\n",
      "Epoch 49/200: 100%|██████████| 2/2 [00:00<00:00, 57.15it/s, loss=0.6918, avg_loss=0.6913]\n",
      "Epoch 50/200: 100%|██████████| 2/2 [00:00<00:00, 55.56it/s, loss=0.6919, avg_loss=0.6905]\n"
     ]
    },
    {
     "name": "stdout",
     "output_type": "stream",
     "text": [
      "Epoch [50/200]\n",
      "Training Loss: 0.6905\n",
      "Validation Loss: 0.6857\n",
      "Validation Accuracy: 0.5798\n"
     ]
    },
    {
     "name": "stderr",
     "output_type": "stream",
     "text": [
      "Epoch 51/200: 100%|██████████| 2/2 [00:00<00:00, 51.28it/s, loss=0.6941, avg_loss=0.6940]\n",
      "Epoch 52/200: 100%|██████████| 2/2 [00:00<00:00, 50.00it/s, loss=0.6890, avg_loss=0.6878]\n",
      "Epoch 53/200: 100%|██████████| 2/2 [00:00<00:00, 54.06it/s, loss=0.6904, avg_loss=0.6881]\n",
      "Epoch 54/200: 100%|██████████| 2/2 [00:00<00:00, 50.00it/s, loss=0.6968, avg_loss=0.6925]\n",
      "Epoch 55/200: 100%|██████████| 2/2 [00:00<00:00, 55.56it/s, loss=0.6852, avg_loss=0.6857]\n",
      "Epoch 56/200: 100%|██████████| 2/2 [00:00<00:00, 49.89it/s, loss=0.6862, avg_loss=0.6861]\n",
      "Epoch 57/200: 100%|██████████| 2/2 [00:00<00:00, 46.51it/s, loss=0.6920, avg_loss=0.6918]\n",
      "Epoch 58/200: 100%|██████████| 2/2 [00:00<00:00, 48.78it/s, loss=0.6853, avg_loss=0.6874]\n",
      "Epoch 59/200: 100%|██████████| 2/2 [00:00<00:00, 55.56it/s, loss=0.6848, avg_loss=0.6897]\n",
      "Epoch 60/200: 100%|██████████| 2/2 [00:00<00:00, 64.52it/s, loss=0.6864, avg_loss=0.6842]\n"
     ]
    },
    {
     "name": "stdout",
     "output_type": "stream",
     "text": [
      "Epoch [60/200]\n",
      "Training Loss: 0.6842\n",
      "Validation Loss: 0.6769\n",
      "Validation Accuracy: 0.6134\n"
     ]
    },
    {
     "name": "stderr",
     "output_type": "stream",
     "text": [
      "Epoch 61/200: 100%|██████████| 2/2 [00:00<00:00, 57.14it/s, loss=0.6852, avg_loss=0.6854]\n",
      "Epoch 62/200: 100%|██████████| 2/2 [00:00<00:00, 57.14it/s, loss=0.6849, avg_loss=0.6844]\n",
      "Epoch 63/200: 100%|██████████| 2/2 [00:00<00:00, 55.56it/s, loss=0.6865, avg_loss=0.6825]\n",
      "Epoch 64/200: 100%|██████████| 2/2 [00:00<00:00, 55.56it/s, loss=0.6788, avg_loss=0.6793]\n",
      "Epoch 65/200: 100%|██████████| 2/2 [00:00<00:00, 52.64it/s, loss=0.6837, avg_loss=0.6849]\n",
      "Epoch 66/200: 100%|██████████| 2/2 [00:00<00:00, 52.63it/s, loss=0.6861, avg_loss=0.6857]\n",
      "Epoch 67/200: 100%|██████████| 2/2 [00:00<00:00, 55.55it/s, loss=0.6990, avg_loss=0.6870]\n",
      "Epoch 68/200: 100%|██████████| 2/2 [00:00<00:00, 54.05it/s, loss=0.6955, avg_loss=0.6908]\n",
      "Epoch 69/200: 100%|██████████| 2/2 [00:00<00:00, 52.63it/s, loss=0.6822, avg_loss=0.6874]\n",
      "Epoch 70/200: 100%|██████████| 2/2 [00:00<00:00, 51.28it/s, loss=0.6977, avg_loss=0.6902]\n"
     ]
    },
    {
     "name": "stdout",
     "output_type": "stream",
     "text": [
      "Epoch [70/200]\n",
      "Training Loss: 0.6902\n",
      "Validation Loss: 0.6707\n",
      "Validation Accuracy: 0.6050\n"
     ]
    },
    {
     "name": "stderr",
     "output_type": "stream",
     "text": [
      "Epoch 71/200: 100%|██████████| 2/2 [00:00<00:00, 52.62it/s, loss=0.6991, avg_loss=0.6982]\n",
      "Epoch 72/200: 100%|██████████| 2/2 [00:00<00:00, 54.09it/s, loss=0.6800, avg_loss=0.6876]\n",
      "Epoch 73/200: 100%|██████████| 2/2 [00:00<00:00, 51.29it/s, loss=0.6850, avg_loss=0.6852]\n",
      "Epoch 74/200: 100%|██████████| 2/2 [00:00<00:00, 57.14it/s, loss=0.6790, avg_loss=0.6859]\n",
      "Epoch 75/200: 100%|██████████| 2/2 [00:00<00:00, 52.66it/s, loss=0.6817, avg_loss=0.6817]\n",
      "Epoch 76/200: 100%|██████████| 2/2 [00:00<00:00, 54.05it/s, loss=0.6838, avg_loss=0.6863]\n",
      "Epoch 77/200: 100%|██████████| 2/2 [00:00<00:00, 55.71it/s, loss=0.6827, avg_loss=0.6858]\n",
      "Epoch 78/200: 100%|██████████| 2/2 [00:00<00:00, 55.37it/s, loss=0.6857, avg_loss=0.6844]\n",
      "Epoch 79/200: 100%|██████████| 2/2 [00:00<00:00, 57.16it/s, loss=0.6786, avg_loss=0.6837]\n",
      "Epoch 80/200: 100%|██████████| 2/2 [00:00<00:00, 51.39it/s, loss=0.6908, avg_loss=0.6870]\n"
     ]
    },
    {
     "name": "stdout",
     "output_type": "stream",
     "text": [
      "Epoch [80/200]\n",
      "Training Loss: 0.6870\n",
      "Validation Loss: 0.6718\n",
      "Validation Accuracy: 0.6807\n"
     ]
    },
    {
     "name": "stderr",
     "output_type": "stream",
     "text": [
      "Epoch 81/200: 100%|██████████| 2/2 [00:00<00:00, 55.56it/s, loss=0.6947, avg_loss=0.6894]\n",
      "Epoch 82/200: 100%|██████████| 2/2 [00:00<00:00, 57.14it/s, loss=0.6722, avg_loss=0.6798]\n",
      "Epoch 83/200: 100%|██████████| 2/2 [00:00<00:00, 55.56it/s, loss=0.6910, avg_loss=0.6881]\n",
      "Epoch 84/200: 100%|██████████| 2/2 [00:00<00:00, 55.61it/s, loss=0.6827, avg_loss=0.6851]\n",
      "Epoch 85/200: 100%|██████████| 2/2 [00:00<00:00, 57.15it/s, loss=0.6861, avg_loss=0.6844]\n",
      "Epoch 86/200: 100%|██████████| 2/2 [00:00<00:00, 55.55it/s, loss=0.6768, avg_loss=0.6817]\n",
      "Epoch 87/200: 100%|██████████| 2/2 [00:00<00:00, 52.63it/s, loss=0.7001, avg_loss=0.6892]\n",
      "Epoch 88/200: 100%|██████████| 2/2 [00:00<00:00, 55.55it/s, loss=0.6671, avg_loss=0.6749]\n",
      "Epoch 89/200: 100%|██████████| 2/2 [00:00<00:00, 54.05it/s, loss=0.6680, avg_loss=0.6798]\n",
      "Epoch 90/200: 100%|██████████| 2/2 [00:00<00:00, 55.56it/s, loss=0.6845, avg_loss=0.6840]\n"
     ]
    },
    {
     "name": "stdout",
     "output_type": "stream",
     "text": [
      "Epoch [90/200]\n",
      "Training Loss: 0.6840\n",
      "Validation Loss: 0.6582\n",
      "Validation Accuracy: 0.6807\n"
     ]
    },
    {
     "name": "stderr",
     "output_type": "stream",
     "text": [
      "Epoch 91/200: 100%|██████████| 2/2 [00:00<00:00, 57.14it/s, loss=0.6855, avg_loss=0.6764]\n",
      "Epoch 92/200: 100%|██████████| 2/2 [00:00<00:00, 51.28it/s, loss=0.6920, avg_loss=0.6831]\n",
      "Epoch 93/200: 100%|██████████| 2/2 [00:00<00:00, 57.91it/s, loss=0.6796, avg_loss=0.6832]\n",
      "Epoch 94/200: 100%|██████████| 2/2 [00:00<00:00, 54.06it/s, loss=0.6956, avg_loss=0.6795]\n",
      "Epoch 95/200: 100%|██████████| 2/2 [00:00<00:00, 57.01it/s, loss=0.6785, avg_loss=0.6752]\n",
      "Epoch 96/200: 100%|██████████| 2/2 [00:00<00:00, 54.06it/s, loss=0.6618, avg_loss=0.6730]\n",
      "Epoch 97/200: 100%|██████████| 2/2 [00:00<00:00, 51.39it/s, loss=0.6749, avg_loss=0.6764]\n",
      "Epoch 98/200: 100%|██████████| 2/2 [00:00<00:00, 51.28it/s, loss=0.6646, avg_loss=0.6742]\n",
      "Epoch 99/200: 100%|██████████| 2/2 [00:00<00:00, 51.28it/s, loss=0.6929, avg_loss=0.6831]\n",
      "Epoch 100/200: 100%|██████████| 2/2 [00:00<00:00, 57.15it/s, loss=0.6673, avg_loss=0.6814]\n"
     ]
    },
    {
     "name": "stdout",
     "output_type": "stream",
     "text": [
      "Epoch [100/200]\n",
      "Training Loss: 0.6814\n",
      "Validation Loss: 0.6475\n",
      "Validation Accuracy: 0.6387\n"
     ]
    },
    {
     "name": "stderr",
     "output_type": "stream",
     "text": [
      "Epoch 101/200: 100%|██████████| 2/2 [00:00<00:00, 45.43it/s, loss=0.6878, avg_loss=0.6900]\n",
      "Epoch 102/200: 100%|██████████| 2/2 [00:00<00:00, 54.05it/s, loss=0.6783, avg_loss=0.6829]\n",
      "Epoch 103/200: 100%|██████████| 2/2 [00:00<00:00, 54.05it/s, loss=0.6654, avg_loss=0.6678]\n",
      "Epoch 104/200: 100%|██████████| 2/2 [00:00<00:00, 52.74it/s, loss=0.6796, avg_loss=0.6753]\n",
      "Epoch 105/200: 100%|██████████| 2/2 [00:00<00:00, 49.95it/s, loss=0.6680, avg_loss=0.6749]\n",
      "Epoch 106/200: 100%|██████████| 2/2 [00:00<00:00, 57.14it/s, loss=0.6749, avg_loss=0.6777]\n",
      "Epoch 107/200: 100%|██████████| 2/2 [00:00<00:00, 51.28it/s, loss=0.6728, avg_loss=0.6757]\n",
      "Epoch 108/200: 100%|██████████| 2/2 [00:00<00:00, 54.05it/s, loss=0.6771, avg_loss=0.6762]\n",
      "Epoch 109/200: 100%|██████████| 2/2 [00:00<00:00, 58.82it/s, loss=0.6899, avg_loss=0.6800]\n",
      "Epoch 110/200: 100%|██████████| 2/2 [00:00<00:00, 52.63it/s, loss=0.6954, avg_loss=0.6744]\n"
     ]
    },
    {
     "name": "stdout",
     "output_type": "stream",
     "text": [
      "Epoch [110/200]\n",
      "Training Loss: 0.6744\n",
      "Validation Loss: 0.6470\n",
      "Validation Accuracy: 0.6471\n"
     ]
    },
    {
     "name": "stderr",
     "output_type": "stream",
     "text": [
      "Epoch 111/200: 100%|██████████| 2/2 [00:00<00:00, 55.76it/s, loss=0.6912, avg_loss=0.6782]\n",
      "Epoch 112/200: 100%|██████████| 2/2 [00:00<00:00, 54.05it/s, loss=0.6727, avg_loss=0.6745]\n",
      "Epoch 113/200: 100%|██████████| 2/2 [00:00<00:00, 51.29it/s, loss=0.6859, avg_loss=0.6816]\n",
      "Epoch 114/200: 100%|██████████| 2/2 [00:00<00:00, 52.63it/s, loss=0.6650, avg_loss=0.6758]\n",
      "Epoch 115/200: 100%|██████████| 2/2 [00:00<00:00, 55.56it/s, loss=0.6805, avg_loss=0.6828]\n",
      "Epoch 116/200: 100%|██████████| 2/2 [00:00<00:00, 54.05it/s, loss=0.6755, avg_loss=0.6714]\n",
      "Epoch 117/200: 100%|██████████| 2/2 [00:00<00:00, 57.14it/s, loss=0.6657, avg_loss=0.6702]\n",
      "Epoch 118/200: 100%|██████████| 2/2 [00:00<00:00, 54.05it/s, loss=0.6786, avg_loss=0.6676]\n",
      "Epoch 119/200: 100%|██████████| 2/2 [00:00<00:00, 47.62it/s, loss=0.6824, avg_loss=0.6721]\n",
      "Epoch 120/200: 100%|██████████| 2/2 [00:00<00:00, 51.28it/s, loss=0.6785, avg_loss=0.6763]\n"
     ]
    },
    {
     "name": "stdout",
     "output_type": "stream",
     "text": [
      "Epoch [120/200]\n",
      "Training Loss: 0.6763\n",
      "Validation Loss: 0.6479\n",
      "Validation Accuracy: 0.6723\n"
     ]
    },
    {
     "name": "stderr",
     "output_type": "stream",
     "text": [
      "Epoch 121/200: 100%|██████████| 2/2 [00:00<00:00, 54.05it/s, loss=0.6692, avg_loss=0.6712]\n",
      "Epoch 122/200: 100%|██████████| 2/2 [00:00<00:00, 58.82it/s, loss=0.6813, avg_loss=0.6759]\n",
      "Epoch 123/200: 100%|██████████| 2/2 [00:00<00:00, 51.28it/s, loss=0.6677, avg_loss=0.6720]\n",
      "Epoch 124/200: 100%|██████████| 2/2 [00:00<00:00, 50.00it/s, loss=0.6725, avg_loss=0.6674]\n",
      "Epoch 125/200: 100%|██████████| 2/2 [00:00<00:00, 55.56it/s, loss=0.6736, avg_loss=0.6766]\n",
      "Epoch 126/200: 100%|██████████| 2/2 [00:00<00:00, 57.14it/s, loss=0.6646, avg_loss=0.6749]\n",
      "Epoch 127/200: 100%|██████████| 2/2 [00:00<00:00, 52.63it/s, loss=0.6928, avg_loss=0.6739]\n",
      "Epoch 128/200: 100%|██████████| 2/2 [00:00<00:00, 57.14it/s, loss=0.6579, avg_loss=0.6681]\n",
      "Epoch 129/200: 100%|██████████| 2/2 [00:00<00:00, 60.60it/s, loss=0.6751, avg_loss=0.6746]\n",
      "Epoch 130/200: 100%|██████████| 2/2 [00:00<00:00, 58.83it/s, loss=0.6703, avg_loss=0.6696]\n"
     ]
    },
    {
     "name": "stdout",
     "output_type": "stream",
     "text": [
      "Epoch [130/200]\n",
      "Training Loss: 0.6696\n",
      "Validation Loss: 0.6583\n",
      "Validation Accuracy: 0.6387\n"
     ]
    },
    {
     "name": "stderr",
     "output_type": "stream",
     "text": [
      "Epoch 131/200: 100%|██████████| 2/2 [00:00<00:00, 47.62it/s, loss=0.6717, avg_loss=0.6761]\n",
      "Epoch 132/200: 100%|██████████| 2/2 [00:00<00:00, 52.63it/s, loss=0.6602, avg_loss=0.6705]\n",
      "Epoch 133/200: 100%|██████████| 2/2 [00:00<00:00, 55.55it/s, loss=0.6861, avg_loss=0.6699]\n",
      "Epoch 134/200: 100%|██████████| 2/2 [00:00<00:00, 51.28it/s, loss=0.6530, avg_loss=0.6588]\n",
      "Epoch 135/200: 100%|██████████| 2/2 [00:00<00:00, 50.00it/s, loss=0.6640, avg_loss=0.6605]\n",
      "Epoch 136/200: 100%|██████████| 2/2 [00:00<00:00, 54.05it/s, loss=0.6658, avg_loss=0.6644]\n",
      "Epoch 137/200: 100%|██████████| 2/2 [00:00<00:00, 54.05it/s, loss=0.6340, avg_loss=0.6590]\n",
      "Epoch 138/200: 100%|██████████| 2/2 [00:00<00:00, 52.63it/s, loss=0.6475, avg_loss=0.6597]\n",
      "Epoch 139/200: 100%|██████████| 2/2 [00:00<00:00, 50.00it/s, loss=0.6570, avg_loss=0.6518]\n",
      "Epoch 140/200: 100%|██████████| 2/2 [00:00<00:00, 50.00it/s, loss=0.6763, avg_loss=0.6691]\n"
     ]
    },
    {
     "name": "stdout",
     "output_type": "stream",
     "text": [
      "Epoch [140/200]\n",
      "Training Loss: 0.6691\n",
      "Validation Loss: 0.6308\n",
      "Validation Accuracy: 0.6807\n"
     ]
    },
    {
     "name": "stderr",
     "output_type": "stream",
     "text": [
      "Epoch 141/200: 100%|██████████| 2/2 [00:00<00:00, 54.05it/s, loss=0.6845, avg_loss=0.6720]\n",
      "Epoch 142/200: 100%|██████████| 2/2 [00:00<00:00, 55.55it/s, loss=0.6643, avg_loss=0.6650]\n",
      "Epoch 143/200: 100%|██████████| 2/2 [00:00<00:00, 57.14it/s, loss=0.6550, avg_loss=0.6607]\n",
      "Epoch 144/200: 100%|██████████| 2/2 [00:00<00:00, 55.55it/s, loss=0.6507, avg_loss=0.6661]\n",
      "Epoch 145/200: 100%|██████████| 2/2 [00:00<00:00, 57.42it/s, loss=0.6611, avg_loss=0.6620]\n",
      "Epoch 146/200: 100%|██████████| 2/2 [00:00<00:00, 58.82it/s, loss=0.6556, avg_loss=0.6626]\n",
      "Epoch 147/200: 100%|██████████| 2/2 [00:00<00:00, 57.14it/s, loss=0.6580, avg_loss=0.6567]\n",
      "Epoch 148/200: 100%|██████████| 2/2 [00:00<00:00, 57.14it/s, loss=0.6800, avg_loss=0.6657]\n",
      "Epoch 149/200: 100%|██████████| 2/2 [00:00<00:00, 48.78it/s, loss=0.6741, avg_loss=0.6571]\n",
      "Epoch 150/200: 100%|██████████| 2/2 [00:00<00:00, 48.78it/s, loss=0.6867, avg_loss=0.6801]\n"
     ]
    },
    {
     "name": "stdout",
     "output_type": "stream",
     "text": [
      "Epoch [150/200]\n",
      "Training Loss: 0.6801\n",
      "Validation Loss: 0.6538\n",
      "Validation Accuracy: 0.5630\n"
     ]
    },
    {
     "name": "stderr",
     "output_type": "stream",
     "text": [
      "Epoch 151/200: 100%|██████████| 2/2 [00:00<00:00, 55.56it/s, loss=0.6538, avg_loss=0.6626]\n",
      "Epoch 152/200: 100%|██████████| 2/2 [00:00<00:00, 52.63it/s, loss=0.6733, avg_loss=0.6650]\n",
      "Epoch 153/200: 100%|██████████| 2/2 [00:00<00:00, 55.68it/s, loss=0.6789, avg_loss=0.6698]\n",
      "Epoch 154/200: 100%|██████████| 2/2 [00:00<00:00, 47.65it/s, loss=0.6624, avg_loss=0.6634]\n",
      "Epoch 155/200: 100%|██████████| 2/2 [00:00<00:00, 55.54it/s, loss=0.6767, avg_loss=0.6679]\n",
      "Epoch 156/200: 100%|██████████| 2/2 [00:00<00:00, 54.06it/s, loss=0.6565, avg_loss=0.6626]\n",
      "Epoch 157/200: 100%|██████████| 2/2 [00:00<00:00, 50.10it/s, loss=0.6616, avg_loss=0.6575]\n",
      "Epoch 158/200: 100%|██████████| 2/2 [00:00<00:00, 55.56it/s, loss=0.6567, avg_loss=0.6554]\n",
      "Epoch 159/200: 100%|██████████| 2/2 [00:00<00:00, 52.63it/s, loss=0.6468, avg_loss=0.6516]\n",
      "Epoch 160/200: 100%|██████████| 2/2 [00:00<00:00, 57.14it/s, loss=0.6740, avg_loss=0.6492]\n"
     ]
    },
    {
     "name": "stdout",
     "output_type": "stream",
     "text": [
      "Epoch [160/200]\n",
      "Training Loss: 0.6492\n",
      "Validation Loss: 0.6281\n",
      "Validation Accuracy: 0.6891\n"
     ]
    },
    {
     "name": "stderr",
     "output_type": "stream",
     "text": [
      "Epoch 161/200: 100%|██████████| 2/2 [00:00<00:00, 55.55it/s, loss=0.6636, avg_loss=0.6575]\n",
      "Epoch 162/200: 100%|██████████| 2/2 [00:00<00:00, 55.43it/s, loss=0.6573, avg_loss=0.6473]\n",
      "Epoch 163/200: 100%|██████████| 2/2 [00:00<00:00, 50.00it/s, loss=0.6497, avg_loss=0.6495]\n",
      "Epoch 164/200: 100%|██████████| 2/2 [00:00<00:00, 54.17it/s, loss=0.6633, avg_loss=0.6516]\n",
      "Epoch 165/200: 100%|██████████| 2/2 [00:00<00:00, 52.63it/s, loss=0.6428, avg_loss=0.6461]\n",
      "Epoch 166/200: 100%|██████████| 2/2 [00:00<00:00, 55.58it/s, loss=0.6506, avg_loss=0.6507]\n",
      "Epoch 167/200: 100%|██████████| 2/2 [00:00<00:00, 52.64it/s, loss=0.6618, avg_loss=0.6480]\n",
      "Epoch 168/200: 100%|██████████| 2/2 [00:00<00:00, 54.05it/s, loss=0.6415, avg_loss=0.6493]\n",
      "Epoch 169/200: 100%|██████████| 2/2 [00:00<00:00, 54.06it/s, loss=0.6640, avg_loss=0.6600]\n",
      "Epoch 170/200: 100%|██████████| 2/2 [00:00<00:00, 55.56it/s, loss=0.6736, avg_loss=0.6526]\n"
     ]
    },
    {
     "name": "stdout",
     "output_type": "stream",
     "text": [
      "Epoch [170/200]\n",
      "Training Loss: 0.6526\n",
      "Validation Loss: 0.6432\n",
      "Validation Accuracy: 0.6723\n"
     ]
    },
    {
     "name": "stderr",
     "output_type": "stream",
     "text": [
      "Epoch 171/200: 100%|██████████| 2/2 [00:00<00:00, 51.28it/s, loss=0.6331, avg_loss=0.6492]\n",
      "Epoch 172/200: 100%|██████████| 2/2 [00:00<00:00, 57.15it/s, loss=0.6812, avg_loss=0.6552]\n",
      "Epoch 173/200: 100%|██████████| 2/2 [00:00<00:00, 48.78it/s, loss=0.6600, avg_loss=0.6564]\n",
      "Epoch 174/200: 100%|██████████| 2/2 [00:00<00:00, 54.05it/s, loss=0.6433, avg_loss=0.6532]\n",
      "Epoch 175/200: 100%|██████████| 2/2 [00:00<00:00, 55.55it/s, loss=0.6530, avg_loss=0.6510]\n",
      "Epoch 176/200: 100%|██████████| 2/2 [00:00<00:00, 54.05it/s, loss=0.6452, avg_loss=0.6530]\n",
      "Epoch 177/200: 100%|██████████| 2/2 [00:00<00:00, 55.56it/s, loss=0.6496, avg_loss=0.6529]\n",
      "Epoch 178/200: 100%|██████████| 2/2 [00:00<00:00, 54.05it/s, loss=0.6380, avg_loss=0.6408]\n",
      "Epoch 179/200: 100%|██████████| 2/2 [00:00<00:00, 57.14it/s, loss=0.6471, avg_loss=0.6540]\n",
      "Epoch 180/200: 100%|██████████| 2/2 [00:00<00:00, 51.28it/s, loss=0.6590, avg_loss=0.6498]\n"
     ]
    },
    {
     "name": "stdout",
     "output_type": "stream",
     "text": [
      "Epoch [180/200]\n",
      "Training Loss: 0.6498\n",
      "Validation Loss: 0.6362\n",
      "Validation Accuracy: 0.6975\n"
     ]
    },
    {
     "name": "stderr",
     "output_type": "stream",
     "text": [
      "Epoch 181/200: 100%|██████████| 2/2 [00:00<00:00, 55.56it/s, loss=0.6609, avg_loss=0.6567]\n",
      "Epoch 182/200: 100%|██████████| 2/2 [00:00<00:00, 53.96it/s, loss=0.6534, avg_loss=0.6565]\n",
      "Epoch 183/200: 100%|██████████| 2/2 [00:00<00:00, 55.56it/s, loss=0.6451, avg_loss=0.6480]\n",
      "Epoch 184/200: 100%|██████████| 2/2 [00:00<00:00, 50.00it/s, loss=0.6337, avg_loss=0.6518]\n",
      "Epoch 185/200: 100%|██████████| 2/2 [00:00<00:00, 55.56it/s, loss=0.6439, avg_loss=0.6408]\n",
      "Epoch 186/200: 100%|██████████| 2/2 [00:00<00:00, 55.56it/s, loss=0.6534, avg_loss=0.6462]\n",
      "Epoch 187/200: 100%|██████████| 2/2 [00:00<00:00, 54.05it/s, loss=0.6411, avg_loss=0.6494]\n",
      "Epoch 188/200: 100%|██████████| 2/2 [00:00<00:00, 58.82it/s, loss=0.6704, avg_loss=0.6438]\n",
      "Epoch 189/200: 100%|██████████| 2/2 [00:00<00:00, 52.73it/s, loss=0.6619, avg_loss=0.6508]\n",
      "Epoch 190/200: 100%|██████████| 2/2 [00:00<00:00, 55.45it/s, loss=0.6465, avg_loss=0.6437]\n"
     ]
    },
    {
     "name": "stdout",
     "output_type": "stream",
     "text": [
      "Epoch [190/200]\n",
      "Training Loss: 0.6437\n",
      "Validation Loss: 0.6326\n",
      "Validation Accuracy: 0.6471\n"
     ]
    },
    {
     "name": "stderr",
     "output_type": "stream",
     "text": [
      "Epoch 191/200: 100%|██████████| 2/2 [00:00<00:00, 51.28it/s, loss=0.6734, avg_loss=0.6580]\n",
      "Epoch 192/200: 100%|██████████| 2/2 [00:00<00:00, 62.50it/s, loss=0.6470, avg_loss=0.6574]\n",
      "Epoch 193/200: 100%|██████████| 2/2 [00:00<00:00, 52.63it/s, loss=0.6300, avg_loss=0.6410]\n",
      "Epoch 194/200: 100%|██████████| 2/2 [00:00<00:00, 51.29it/s, loss=0.6390, avg_loss=0.6423]\n",
      "Epoch 195/200: 100%|██████████| 2/2 [00:00<00:00, 55.56it/s, loss=0.6400, avg_loss=0.6448]\n",
      "Epoch 196/200: 100%|██████████| 2/2 [00:00<00:00, 55.56it/s, loss=0.6572, avg_loss=0.6418]\n",
      "Epoch 197/200: 100%|██████████| 2/2 [00:00<00:00, 47.61it/s, loss=0.6549, avg_loss=0.6479]\n",
      "Epoch 198/200: 100%|██████████| 2/2 [00:00<00:00, 54.06it/s, loss=0.6343, avg_loss=0.6436]\n",
      "Epoch 199/200: 100%|██████████| 2/2 [00:00<00:00, 55.33it/s, loss=0.6613, avg_loss=0.6458]\n",
      "Epoch 200/200: 100%|██████████| 2/2 [00:00<00:00, 55.68it/s, loss=0.6403, avg_loss=0.6402]\n"
     ]
    },
    {
     "name": "stdout",
     "output_type": "stream",
     "text": [
      "Epoch [200/200]\n",
      "Training Loss: 0.6402\n",
      "Validation Loss: 0.6296\n",
      "Validation Accuracy: 0.6975\n"
     ]
    }
   ],
   "source": [
    "# Define the model\n",
    "model_seizure_channel = Wavenet2(input_dim=1, output_dim=2, lr=0.001, hidden_dim=64, kernel_size=64, dropout=0.5)\n",
    "# model_seizure_onset = Wavenet2(input_dim=1, output_dim=2, lr=0.001, hidden_dim=64, kernel_size=64, dropout=0.5)\n",
    "\n",
    "# Train the model\n",
    "train_loss, val_loss, val_accuracy = train_using_optimizer(model_seizure_channel, seizure_channels_dataset_train, seizure_channels_dataset_val, epochs=200, checkpoint_freq=10)\n",
    "# train_ons_loss, val_ons_loss, val_ons_accuracy = train_using_optimizer(model_seizure_onset, seizure_onset_dataset_train, seizure_onset_dataset_val, epochs=200, checkpoint_freq=100)"
   ],
   "metadata": {
    "collapsed": false,
    "ExecuteTime": {
     "end_time": "2024-11-25T13:26:25.302615200Z",
     "start_time": "2024-11-25T13:26:11.777076500Z"
    }
   },
   "id": "28e4375eb57ea2fd",
   "execution_count": 12
  },
  {
   "cell_type": "code",
   "outputs": [
    {
     "data": {
      "text/plain": "<Figure size 640x480 with 2 Axes>",
      "image/png": "[encoded data removed]"
     },
     "metadata": {},
     "output_type": "display_data"
    }
   ],
   "source": [
    "# Plot the training and validation loss\n",
    "import matplotlib.pyplot as plt\n",
    "\n",
    "x_ticks = range(0, 200, 10)\n",
    "\n",
    "plt.plot(train_loss, label='Train')\n",
    "plt.plot(x_ticks, val_loss, label='Validation')\n",
    "# Twin the y-axis for accuracy of validation\n",
    "plt.twinx()\n",
    "plt.plot(x_ticks, val_accuracy, label='Validation Accuracy', color='red')\n",
    "plt.xlabel('Epoch')\n",
    "plt.ylabel('Loss')\n",
    "plt.legend()\n",
    "plt.savefig('result/loss_seizure_channels.png')\n",
    "\n",
    "plt.show()\n",
    "\n"
   ],
   "metadata": {
    "collapsed": false,
    "ExecuteTime": {
     "end_time": "2024-11-25T13:26:25.792154Z",
     "start_time": "2024-11-25T13:26:25.302125700Z"
    }
   },
   "id": "64dde4dc9514e03f",
   "execution_count": 13
  },
  {
   "cell_type": "code",
   "outputs": [],
   "source": [
    "predicted_labels_total = []\n",
    "\n",
    "time_lengths = [10, 20, 30, 40, 50, 60]\n",
    "\n",
    "\n",
    "\n",
    "for i in range(len(results_propagation_total)):\n",
    "\n",
    "    sample_seizure = results_propagation_total[i]['smoothed_probabilities'][50:400, :]\n",
    "    \n",
    "    # Feed the data to the model and get predictions\n",
    "    sample_seizure = sample_seizure.T\n",
    "    sample_seizure = np.expand_dims(sample_seizure, axis=1)\n",
    "    \n",
    "    # Convert to tensor\n",
    "    sample_seizure = torch.tensor(sample_seizure, dtype=torch.float32)\n",
    "    \n",
    "    # Get the predictions\n",
    "    predictions = model_seizure_channel(sample_seizure)\n",
    "    \n",
    "    # Get the predicted labels, where predicted_labels = 1 when chance is more than 80%\n",
    "    predicted_labels = predictions.detach().to('cpu').numpy()\n",
    "    \n",
    "    predicted_labels = predicted_labels[:, 1] > 0.5\n",
    "    \n",
    "    predicted_labels_total.append(predicted_labels)"
   ],
   "metadata": {
    "collapsed": false,
    "ExecuteTime": {
     "end_time": "2024-11-25T13:43:55.531651Z",
     "start_time": "2024-11-25T13:43:55.393655Z"
    }
   },
   "id": "22895f03a8fee345",
   "execution_count": 36
  },
  {
   "cell_type": "code",
   "outputs": [],
   "source": [
    "# Convert the channel from results_propagation to the y_true as 1s and 0s\n",
    "gound_truth_total = []\n",
    "for i in range(len(results_propagation_total)):\n",
    "    y_true = np.zeros(results_propagation_total[i]['smoothed_probabilities'].shape[1])\n",
    "    y_true[results_propagation_total[i]['true_seizure_channels']] = 1\n",
    "    gound_truth_total.append(y_true)\n",
    "    \n",
    "# Convert the gound_truth_total to a single array\n",
    "gound_truth_total = np.concatenate(gound_truth_total)\n",
    "\n",
    "# Convert the predicted_labels_total to a single array\n",
    "predicted_labels_total = np.concatenate(predicted_labels_total)"
   ],
   "metadata": {
    "collapsed": false,
    "ExecuteTime": {
     "end_time": "2024-11-25T13:43:56.162751600Z",
     "start_time": "2024-11-25T13:43:56.114652200Z"
    }
   },
   "id": "f3093baf9d7c09ff",
   "execution_count": 37
  },
  {
   "cell_type": "code",
   "outputs": [
    {
     "data": {
      "text/plain": "<Figure size 640x480 with 2 Axes>",
      "image/png": "[encoded data removed]"
     },
     "metadata": {},
     "output_type": "display_data"
    }
   ],
   "source": [
    "# Plot the confusion matrix\n",
    "import matplotlib.pyplot as plt\n",
    "import seaborn as sns\n",
    "from sklearn.metrics import confusion_matrix\n",
    "\n",
    "conf_matrix = confusion_matrix(gound_truth_total.flatten(), predicted_labels_total.flatten())\n",
    "sns.heatmap(conf_matrix, annot=True, fmt='d')\n",
    "plt.xlabel('Predicted')\n",
    "plt.ylabel('True')\n",
    "plt.savefig('result/confusion_matrix_seizure_channels.png')\n",
    "\n",
    "plt.show()\n"
   ],
   "metadata": {
    "collapsed": false,
    "ExecuteTime": {
     "end_time": "2024-11-25T13:44:00.680475600Z",
     "start_time": "2024-11-25T13:44:00.409506300Z"
    }
   },
   "id": "c711468730b53833",
   "execution_count": 38
  },
  {
   "cell_type": "code",
   "outputs": [
    {
     "name": "stdout",
     "output_type": "stream",
     "text": [
      "Accuracy: 0.5329545454545455\n",
      "Precision: 0.38125\n",
      "Recall: 0.6161616161616161\n",
      "F1: 0.471042471042471\n"
     ]
    }
   ],
   "source": [
    "# Calculate the accuracy, precision, recall, and F1 score\n",
    "from sklearn.metrics import accuracy_score, precision_score, recall_score, f1_score\n",
    "\n",
    "accuracy = accuracy_score(gound_truth_total.flatten(), predicted_labels_total.flatten())\n",
    "precision = precision_score(gound_truth_total.flatten(), predicted_labels_total.flatten())\n",
    "recall = recall_score(gound_truth_total.flatten(), predicted_labels_total.flatten())\n",
    "f1 = f1_score(gound_truth_total.flatten(), predicted_labels_total.flatten())\n",
    "\n",
    "print(f'Accuracy: {accuracy}')\n",
    "print(f'Precision: {precision}')\n",
    "print(f'Recall: {recall}')\n",
    "print(f'F1: {f1}')"
   ],
   "metadata": {
    "collapsed": false,
    "ExecuteTime": {
     "end_time": "2024-11-25T13:57:03.107774900Z",
     "start_time": "2024-11-25T13:57:02.806458900Z"
    }
   },
   "id": "dd869a20d7728b23",
   "execution_count": 39
  },
  {
   "cell_type": "code",
   "outputs": [],
   "source": [],
   "metadata": {
    "collapsed": false,
    "ExecuteTime": {
     "end_time": "2024-11-25T13:26:26.422087800Z",
     "start_time": "2024-11-25T13:26:26.401094100Z"
    }
   },
   "id": "364f74876053c6f0",
   "execution_count": 17
  }
 ],
 "metadata": {
  "kernelspec": {
   "display_name": "Python 3",
   "language": "python",
   "name": "python3"
  },
  "language_info": {
   "codemirror_mode": {
    "name": "ipython",
    "version": 2
   },
   "file_extension": ".py",
   "mimetype": "text/x-python",
   "name": "python",
   "nbconvert_exporter": "python",
   "pygments_lexer": "ipython2",
   "version": "2.7.6"
  }
 },
 "nbformat": 4,
 "nbformat_minor": 5
}
