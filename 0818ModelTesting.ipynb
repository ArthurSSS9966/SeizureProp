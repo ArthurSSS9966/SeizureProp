{
 "cells": [
  {
   "cell_type": "code",
   "execution_count": null,
   "id": "a90337c9b40e83dc",
   "metadata": {
    "collapsed": false
   },
   "outputs": [],
   "source": [
    "import numpy as np\n",
    "# At the start of your notebook\n",
    "from IPython.display import clear_output\n",
    "import gc\n",
    "import os\n",
    "\n",
    "# After heavy computations\n",
    "clear_output(wait=True)\n",
    "gc.collect()"
   ]
  },
  {
   "cell_type": "code",
   "execution_count": null,
   "id": "1f435e4429efe0ce",
   "metadata": {
    "collapsed": false
   },
   "outputs": [],
   "source": [
    "RESULT_FOLDER = \"result\"\n",
    "MODEL_FOLDER = \"checkpoints\"\n",
    "model_names = ['Transformer', 'Wavenet', 'ResNet']  # 'CNN1D', 'Wavenet', 'S4', 'Resnet', 'Transformer'"
   ]
  },
  {
   "cell_type": "code",
   "execution_count": null,
   "id": "c6cae63b9e3c480d",
   "metadata": {
    "collapsed": false
   },
   "outputs": [],
   "source": [
    "from steps import extract_sEEG_features\n",
    "from datasetConstruct import load_seizure_across_patients, load_single_seizure\n",
    "\n",
    "dataset = load_seizure_across_patients(data_folder='data')\n",
    "\n",
    "for seizure in dataset:\n",
    "    seizure_new = extract_sEEG_features(seizure, sampling_rate=seizure.samplingRate)\n",
    "    \n",
    "dataset = load_seizure_across_patients(data_folder='data')"
   ]
  },
  {
   "cell_type": "code",
   "execution_count": null,
   "id": "b0b8b221670d8d6b",
   "metadata": {
    "collapsed": false
   },
   "outputs": [],
   "source": [
    "import torch\n",
    "from torch.utils.data import DataLoader, random_split\n",
    "from datasetConstruct import CustomDataset\n",
    "from models import (\n",
    "    universal_train_model, \n",
    "    universal_hyperparameter_search,\n",
    "    create_model_with_best_params,\n",
    "    universal_evaluate_model\n",
    ")\n",
    "\n",
    "# 导入models.py中的模型\n",
    "from models import ResNet, Wavenet, CustomTransformerSeizurePredictor"
   ]
  },
  {
   "cell_type": "code",
   "execution_count": null,
   "id": "ff32f2198958e7",
   "metadata": {
    "collapsed": false
   },
   "outputs": [],
   "source": [
    "X = []\n",
    "y = []\n",
    "\n",
    "for patient_idx, seizure_obj in enumerate(dataset):\n",
    "    print(f\"Processing patient {patient_idx + 1}/{len(dataset)}: {seizure_obj.patNo}\")\n",
    "    \n",
    "    # 取transformed特征\n",
    "    ictal = seizure_obj.ictal_transformed  # shape: (segments, channels, features, time_steps)\n",
    "    interictal = seizure_obj.interictal_transformed  # shape: (segments, channels, features, time_steps)\n",
    "    \n",
    "    print(f\"  Ictal shape: {ictal.shape}\")\n",
    "    print(f\"  Interictal shape: {interictal.shape}\")\n",
    "    \n",
    "    # 获取seizure相关信息\n",
    "    seizure_segment_counts = seizure_obj.seizure_segment_counts  # {SZ1: 84, SZ2: 120, ...}\n",
    "    seizure_specific_channels = getattr(seizure_obj, 'seizure_specific_channels', {})  # {SZ1: [0,1,2,3,4,5], ...}\n",
    "    \n",
    "    # 检查是否有specific channels标注\n",
    "    has_specific_channels = any(len(channels) > 0 for channels in seizure_specific_channels.values())\n",
    "    \n",
    "    if has_specific_channels:\n",
    "        print(f\"  Using specific channel annotations\")\n",
    "        # 有specific channels标注的情况\n",
    "        current_segment = 0\n",
    "        for seizure_name, segment_count in seizure_segment_counts.items():\n",
    "            seizure_channels = seizure_specific_channels.get(seizure_name, [])\n",
    "            \n",
    "            # 处理这个seizure的segments\n",
    "            for seg_idx in range(segment_count):\n",
    "                if current_segment < ictal.shape[0]:  # 确保不超出范围\n",
    "                    segment_data = ictal[current_segment]\n",
    "                    \n",
    "                    # 遍历所有channels\n",
    "                    for ch_idx in range(segment_data.shape[0]):\n",
    "                        channel_data = segment_data[ch_idx]\n",
    "                        \n",
    "                        # 检查这个channel是否在这个seizure的特定channels中\n",
    "                        if ch_idx in seizure_channels:\n",
    "                            # 这个channel在这个seizure中是ictal\n",
    "                            X.append(channel_data.transpose(1, 0))  # (features, time_steps)\n",
    "                            y.append([0.0, 1.0])  # [non-seizure_prob, seizure_prob]\n",
    "                        else:\n",
    "                            # 这个channel在这个seizure中不是ictal，当作interictal处理\n",
    "                            X.append(channel_data.transpose(1, 0))\n",
    "                            y.append([1.0, 0.0])  # [non-seizure_prob, seizure_prob]\n",
    "                    \n",
    "                    current_segment += 1\n",
    "    else:\n",
    "        print(f\"  No specific channel annotations found, treating all ictal as seizure\")\n",
    "        # 没有specific channels标注的情况，所有ictal都当作seizure\n",
    "        for seg in ictal:\n",
    "            for ch in seg:\n",
    "                X.append(ch.transpose(1, 0))  # (features, time_steps)\n",
    "                y.append([0.0, 1.0])  # [non-seizure_prob, seizure_prob]\n",
    "    \n",
    "    # 处理interictal数据 - 所有interictal都是non-seizure\n",
    "    for seg in interictal:\n",
    "        for ch in seg:\n",
    "            X.append(ch.transpose(1, 0))\n",
    "            y.append([1.0, 0.0])  # [non-seizure_prob, seizure_prob]\n",
    "\n",
    "X = np.array(X)\n",
    "y = np.array(y, dtype=np.float32)  # 概率分布标签\n",
    "\n",
    "print(f\"\\nFinal dataset statistics:\")\n",
    "print(f\"Total samples: {len(X)}\")\n",
    "print(f\"X shape: {X.shape}\")\n",
    "print(f\"y shape: {y.shape}\")\n",
    "print(f\"Seizure samples: {np.sum(y[:, 1] == 1.0)}\")\n",
    "print(f\"Non-seizure samples: {np.sum(y[:, 0] == 1.0)}\")\n",
    "\n",
    "# 构建Dataset和DataLoader\n",
    "dataset_torch = CustomDataset(X, y)  # 使用概率分布标签\n",
    "print(f\"Dataset size: {len(dataset_torch)}\")\n",
    "\n",
    "train_size = int(0.8 * len(dataset_torch))\n",
    "val_size = len(dataset_torch) - train_size\n",
    "train_dataset, val_dataset = random_split(dataset_torch, [train_size, val_size])\n",
    "train_loader = DataLoader(train_dataset, batch_size=1024, shuffle=True)\n",
    "val_loader = DataLoader(val_dataset, batch_size=1024)\n",
    "\n",
    "print(f\"Train samples: {len(train_dataset)}\")\n",
    "print(f\"Validation samples: {len(val_dataset)}\")"
   ]
  },
  {
   "cell_type": "code",
   "execution_count": null,
   "id": "795b976df501627e",
   "metadata": {
    "collapsed": false
   },
   "outputs": [],
   "source": [
    "input_dim = X.shape[1]  # features\n",
    "output_dim = 2  # seizure/non-seizure\n",
    "device = 'cuda' if torch.cuda.is_available() else 'cpu'"
   ]
  },
  {
   "cell_type": "code",
   "outputs": [],
   "source": [
    "# 要比较的模型\n",
    "models_to_compare = [\n",
    "    CustomTransformerSeizurePredictor,  # 你的Transformer模型\n",
    "    ResNet,\n",
    "    Wavenet\n",
    "]\n",
    "\n",
    "results = {}\n",
    "\n",
    "for model_class in models_to_compare:\n",
    "    model_name = model_class.__name__\n",
    "    print(f\"处理模型: {model_name}\")\n",
    "    \n",
    "    # 1. 超参数搜索\n",
    "    best_params, study = universal_hyperparameter_search(\n",
    "        model_class=model_class,\n",
    "        train_loader=train_loader,\n",
    "        val_loader=val_loader,\n",
    "        input_dim=input_dim,\n",
    "        output_dim=2,\n",
    "        n_trials=20,\n",
    "        device='cuda',\n",
    "        model_folder=f'checkpoints/{model_name}'\n",
    "    )\n",
    "    \n",
    "    # 2. 使用最佳参数创建最终模型\n",
    "    final_model = create_model_with_best_params(\n",
    "        model_class, best_params, input_dim, 2\n",
    "    )\n",
    "    \n",
    "    # 3. 训练最终模型\n",
    "    train_losses, val_losses, val_accuracies = universal_train_model(\n",
    "        model=final_model,\n",
    "        train_loader=train_loader,\n",
    "        val_loader=val_loader,\n",
    "        save_location=f'checkpoints/{model_name}_final',\n",
    "        epochs=50,\n",
    "        device='cuda'\n",
    "    )\n",
    "    \n",
    "    # 4. 保存结果\n",
    "    results[model_name] = {\n",
    "        'best_params': best_params,\n",
    "        'best_accuracy': max(val_accuracies),\n",
    "        'model': final_model\n",
    "    }\n",
    "\n",
    "# 比较结果\n",
    "for model_name, result in results.items():\n",
    "    print(f\"{model_name}: 准确率 {result['best_accuracy']:.4f}\")"
   ],
   "metadata": {
    "collapsed": false
   },
   "id": "52acb28b04ce33e9",
   "execution_count": null
  }
 ],
 "metadata": {
  "kernelspec": {
   "display_name": "Python 3",
   "language": "python",
   "name": "python3"
  },
  "language_info": {
   "codemirror_mode": {
    "name": "ipython",
    "version": 2
   },
   "file_extension": ".py",
   "mimetype": "text/x-python",
   "name": "python",
   "nbconvert_exporter": "python",
   "pygments_lexer": "ipython2",
   "version": "2.7.6"
  }
 },
 "nbformat": 4,
 "nbformat_minor": 5
}
